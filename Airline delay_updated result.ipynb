{
 "cells": [
  {
   "cell_type": "markdown",
   "metadata": {},
   "source": [
    "## StartUp ML Challenge: On-time arrival data for Airlines\n",
    "    by MITHU EMILINE JAMES"
   ]
  },
  {
   "cell_type": "markdown",
   "metadata": {},
   "source": [
    "### Task: \n",
    "Build a binary classification model for predicting arrival delays > 15minutes without using departure delay as an input feature."
   ]
  },
  {
   "cell_type": "markdown",
   "metadata": {},
   "source": [
    "### Dataset: \n",
    "US Dept. of Transportation on-time performance data for non-stop domestic flights\n",
    "    - Link: https://transtats.bts.gov/DL_SelectFields.asp?Table_ID=236&DB_Short_Name=On-Time\n",
    "    - Data range: [Geography = All of America], [Year-Month = 2017 Jan, Feb, Mar, Apr and 2016 Nov and Dec]"
   ]
  },
  {
   "cell_type": "markdown",
   "metadata": {},
   "source": [
    "### Approach: \n",
    "    1) Load data\n",
    "    2) Wrangle data: Check for class imbalances and handle it by sampling from the dataset\n",
    "    3) Wrangle data: Check for sparse columns to remove them\n",
    "    4) Wrangle data: Check for columns with a few missing values to impute with zero, mean or median\n",
    "    5) Wrangle data: Encode categorical values to numerical values\n",
    "    6) Exploratory analyss: Infer distribution of data using histograms\n",
    "    7) Exploratory analyss: Use measures of central tendency and IQR to understand data at various positions\n",
    "    8) Variable interdependence: Infer multicollinearity of data through correlation matrix\n",
    "    9) Feature selection: Remove redundant variables (i.e. columns that refer to the same thing e.g. ID)\n",
    "    10) Feature engineering: Remove highly collinear variables (i.e. correlation > 0.8)\n",
    "    11) Feature engineering: Reduce data dimension to the variables that most explain variation in target variable\n",
    "    12) Modeling building: Random forest is chosen for machine learning modeling\n",
    "    13) Model comparison: Random forest modeling with original raw data (PART 2) and PCA transformed data (PART 3)\n",
    "    14) Machine learning process:\n",
    "        (a) Train/test data: Split data for training and testing\n",
    "        (b) Model creation: Create models in a grid search for a combination of parameters\n",
    "        (c) Model selection: Use 5-fold cross validation to evaluate model performance and select the best one\n",
    "        (c) Final Model training: Use parameters of the best model from above to train on entire train set\n",
    "        (d) Final Model evaluation: Use 5-fold cross validation for average error on 5 folds of training data\n",
    "        (e) Final Model performance evaluation: Use confusion matrix, Precision, Recall, ROC to evaluate performance"
   ]
  },
  {
   "cell_type": "markdown",
   "metadata": {},
   "source": [
    "## PART 1"
   ]
  },
  {
   "cell_type": "markdown",
   "metadata": {},
   "source": [
    "### Environment set up"
   ]
  },
  {
   "cell_type": "code",
   "execution_count": 1,
   "metadata": {
    "collapsed": false
   },
   "outputs": [
    {
     "name": "stderr",
     "output_type": "stream",
     "text": [
      "C:\\Users\\homeuser\\Anaconda3\\lib\\site-packages\\sklearn\\cross_validation.py:44: DeprecationWarning: This module was deprecated in version 0.18 in favor of the model_selection module into which all the refactored classes and functions are moved. Also note that the interface of the new CV iterators are different from that of this module. This module will be removed in 0.20.\n",
      "  \"This module will be removed in 0.20.\", DeprecationWarning)\n"
     ]
    }
   ],
   "source": [
    "import numpy as np\n",
    "import pandas as pd\n",
    "import csv\n",
    "import os\n",
    "import tabulate\n",
    "from sklearn.preprocessing import LabelEncoder\n",
    "import matplotlib\n",
    "from matplotlib import pyplot as plt\n",
    "import matplotlib.pyplot as plt\n",
    "from datetime import datetime\n",
    "from sklearn.preprocessing import Imputer\n",
    "from sklearn.decomposition import PCA\n",
    "from sklearn import linear_model, decomposition, datasets\n",
    "from sklearn.pipeline import Pipeline\n",
    "from sklearn.model_selection import train_test_split, cross_val_score, GridSearchCV\n",
    "from sklearn.ensemble import RandomForestClassifier\n",
    "from sklearn import cross_validation\n",
    "from sklearn.metrics import confusion_matrix, roc_curve\n",
    "import warnings\n",
    "warnings.filterwarnings('ignore')\n",
    "%matplotlib inline\n",
    "get_ipython().magic('matplotlib inline')\n",
    "matplotlib.rcParams.update({'font.size': 12})\n",
    "matplotlib.rc('xtick', labelsize=8) \n",
    "matplotlib.rc('ytick', labelsize=8)"
   ]
  },
  {
   "cell_type": "markdown",
   "metadata": {},
   "source": [
    "### Data Set Up"
   ]
  },
  {
   "cell_type": "code",
   "execution_count": 2,
   "metadata": {
    "collapsed": false
   },
   "outputs": [],
   "source": [
    "startTime = datetime.now()\n",
    "folderPath = \"C:/Users/homeuser/Documents/MEJ/DS Challenge/StartUpML/Flight Delay/dataFiles\"\n",
    "os.chdir(folderPath)\n",
    "fdata = pd.DataFrame()\n",
    "for filename in os.listdir(os.getcwd()):#Reads all data files from above location\n",
    "    temp = pd.read_csv(filename)\n",
    "    fdata = fdata.append(temp)"
   ]
  },
  {
   "cell_type": "code",
   "execution_count": 3,
   "metadata": {
    "collapsed": false
   },
   "outputs": [],
   "source": [
    "folderPath = \"C:/Users/homeuser/Documents/MEJ/DS Challenge/StartUpML/Flight Delay\"\n",
    "os.chdir(folderPath)#Setting working directory\n",
    "#fileName = \"On_Time_On_Time_Performance_2017_1.csv\"\n",
    "#fdata = pd.read_csv(fileName)\n",
    "#fdata.shape"
   ]
  },
  {
   "cell_type": "markdown",
   "metadata": {},
   "source": [
    "### Data Wrangling"
   ]
  },
  {
   "cell_type": "markdown",
   "metadata": {},
   "source": [
    "Target variable is 'ArrDel15' and there was substantial class imbalances as seen below. In order to avoid the classifier learning one class better than the other, sampling was done to even out the class imbalance."
   ]
  },
  {
   "cell_type": "code",
   "execution_count": 4,
   "metadata": {
    "collapsed": false
   },
   "outputs": [
    {
     "name": "stdout",
     "output_type": "stream",
     "text": [
      "Class imbalance:\n",
      "0.0    2177932\n",
      "1.0     505208\n",
      "Name: ArrDel15, dtype: int64\n",
      "Class imbalance evened out:\n",
      "1.0    505208\n",
      "0.0    505208\n",
      "Name: ArrDel15, dtype: int64\n"
     ]
    },
    {
     "data": {
      "text/plain": [
       "110"
      ]
     },
     "execution_count": 4,
     "metadata": {},
     "output_type": "execute_result"
    }
   ],
   "source": [
    "#Handles class imbalance through sampling\n",
    "classDistribution = fdata['ArrDel15'].value_counts()\n",
    "print('Class imbalance:')\n",
    "print(classDistribution)\n",
    "zero = fdata[fdata['ArrDel15']==0].tail(classDistribution.min())\n",
    "one = fdata[fdata['ArrDel15']==1]\n",
    "data = zero.append(one)\n",
    "del zero, one\n",
    "data.sort(['Year','Month','DayofMonth','DayOfWeek'], ascending=[False,False,False,False])\n",
    "#del fdata\n",
    "print('Class imbalance evened out:')\n",
    "print(data['ArrDel15'].value_counts())\n",
    "len(data.columns)"
   ]
  },
  {
   "cell_type": "code",
   "execution_count": 5,
   "metadata": {
    "collapsed": false
   },
   "outputs": [
    {
     "data": {
      "text/html": [
       "<div>\n",
       "<table border=\"1\" class=\"dataframe\">\n",
       "  <thead>\n",
       "    <tr style=\"text-align: right;\">\n",
       "      <th></th>\n",
       "      <th>Year</th>\n",
       "      <th>Quarter</th>\n",
       "      <th>Month</th>\n",
       "      <th>DayofMonth</th>\n",
       "      <th>DayOfWeek</th>\n",
       "      <th>FlightDate</th>\n",
       "      <th>UniqueCarrier</th>\n",
       "      <th>AirlineID</th>\n",
       "      <th>Carrier</th>\n",
       "      <th>TailNum</th>\n",
       "      <th>...</th>\n",
       "      <th>Div4TailNum</th>\n",
       "      <th>Div5Airport</th>\n",
       "      <th>Div5AirportID</th>\n",
       "      <th>Div5AirportSeqID</th>\n",
       "      <th>Div5WheelsOn</th>\n",
       "      <th>Div5TotalGTime</th>\n",
       "      <th>Div5LongestGTime</th>\n",
       "      <th>Div5WheelsOff</th>\n",
       "      <th>Div5TailNum</th>\n",
       "      <th>Unnamed: 109</th>\n",
       "    </tr>\n",
       "  </thead>\n",
       "  <tbody>\n",
       "    <tr>\n",
       "      <th>315158</th>\n",
       "      <td>2017</td>\n",
       "      <td>1</td>\n",
       "      <td>3</td>\n",
       "      <td>14</td>\n",
       "      <td>2</td>\n",
       "      <td>2017-03-14</td>\n",
       "      <td>DL</td>\n",
       "      <td>19790</td>\n",
       "      <td>DL</td>\n",
       "      <td>N3747D</td>\n",
       "      <td>...</td>\n",
       "      <td>NaN</td>\n",
       "      <td>NaN</td>\n",
       "      <td>NaN</td>\n",
       "      <td>NaN</td>\n",
       "      <td>NaN</td>\n",
       "      <td>NaN</td>\n",
       "      <td>NaN</td>\n",
       "      <td>NaN</td>\n",
       "      <td>NaN</td>\n",
       "      <td>NaN</td>\n",
       "    </tr>\n",
       "    <tr>\n",
       "      <th>315159</th>\n",
       "      <td>2017</td>\n",
       "      <td>1</td>\n",
       "      <td>3</td>\n",
       "      <td>14</td>\n",
       "      <td>2</td>\n",
       "      <td>2017-03-14</td>\n",
       "      <td>DL</td>\n",
       "      <td>19790</td>\n",
       "      <td>DL</td>\n",
       "      <td>N676DL</td>\n",
       "      <td>...</td>\n",
       "      <td>NaN</td>\n",
       "      <td>NaN</td>\n",
       "      <td>NaN</td>\n",
       "      <td>NaN</td>\n",
       "      <td>NaN</td>\n",
       "      <td>NaN</td>\n",
       "      <td>NaN</td>\n",
       "      <td>NaN</td>\n",
       "      <td>NaN</td>\n",
       "      <td>NaN</td>\n",
       "    </tr>\n",
       "  </tbody>\n",
       "</table>\n",
       "<p>2 rows × 110 columns</p>\n",
       "</div>"
      ],
      "text/plain": [
       "        Year  Quarter  Month  DayofMonth  DayOfWeek  FlightDate UniqueCarrier  \\\n",
       "315158  2017        1      3          14          2  2017-03-14            DL   \n",
       "315159  2017        1      3          14          2  2017-03-14            DL   \n",
       "\n",
       "        AirlineID Carrier TailNum      ...       Div4TailNum  Div5Airport  \\\n",
       "315158      19790      DL  N3747D      ...               NaN          NaN   \n",
       "315159      19790      DL  N676DL      ...               NaN          NaN   \n",
       "\n",
       "        Div5AirportID  Div5AirportSeqID Div5WheelsOn Div5TotalGTime  \\\n",
       "315158            NaN               NaN          NaN            NaN   \n",
       "315159            NaN               NaN          NaN            NaN   \n",
       "\n",
       "       Div5LongestGTime  Div5WheelsOff Div5TailNum  Unnamed: 109  \n",
       "315158              NaN            NaN         NaN           NaN  \n",
       "315159              NaN            NaN         NaN           NaN  \n",
       "\n",
       "[2 rows x 110 columns]"
      ]
     },
     "execution_count": 5,
     "metadata": {},
     "output_type": "execute_result"
    }
   ],
   "source": [
    "data.head(2)#Showing top 2 rows as sampled data is ordered by time with older data at the top"
   ]
  },
  {
   "cell_type": "code",
   "execution_count": 6,
   "metadata": {
    "collapsed": false
   },
   "outputs": [
    {
     "data": {
      "text/html": [
       "<div>\n",
       "<table border=\"1\" class=\"dataframe\">\n",
       "  <thead>\n",
       "    <tr style=\"text-align: right;\">\n",
       "      <th></th>\n",
       "      <th>Year</th>\n",
       "      <th>Quarter</th>\n",
       "      <th>Month</th>\n",
       "      <th>DayofMonth</th>\n",
       "      <th>DayOfWeek</th>\n",
       "      <th>FlightDate</th>\n",
       "      <th>UniqueCarrier</th>\n",
       "      <th>AirlineID</th>\n",
       "      <th>Carrier</th>\n",
       "      <th>TailNum</th>\n",
       "      <th>...</th>\n",
       "      <th>Div4TailNum</th>\n",
       "      <th>Div5Airport</th>\n",
       "      <th>Div5AirportID</th>\n",
       "      <th>Div5AirportSeqID</th>\n",
       "      <th>Div5WheelsOn</th>\n",
       "      <th>Div5TotalGTime</th>\n",
       "      <th>Div5LongestGTime</th>\n",
       "      <th>Div5WheelsOff</th>\n",
       "      <th>Div5TailNum</th>\n",
       "      <th>Unnamed: 109</th>\n",
       "    </tr>\n",
       "  </thead>\n",
       "  <tbody>\n",
       "    <tr>\n",
       "      <th>468304</th>\n",
       "      <td>2017</td>\n",
       "      <td>2</td>\n",
       "      <td>4</td>\n",
       "      <td>25</td>\n",
       "      <td>2</td>\n",
       "      <td>2017-04-25</td>\n",
       "      <td>WN</td>\n",
       "      <td>19393</td>\n",
       "      <td>WN</td>\n",
       "      <td>N7738A</td>\n",
       "      <td>...</td>\n",
       "      <td>NaN</td>\n",
       "      <td>NaN</td>\n",
       "      <td>NaN</td>\n",
       "      <td>NaN</td>\n",
       "      <td>NaN</td>\n",
       "      <td>NaN</td>\n",
       "      <td>NaN</td>\n",
       "      <td>NaN</td>\n",
       "      <td>NaN</td>\n",
       "      <td>NaN</td>\n",
       "    </tr>\n",
       "    <tr>\n",
       "      <th>468309</th>\n",
       "      <td>2017</td>\n",
       "      <td>2</td>\n",
       "      <td>4</td>\n",
       "      <td>25</td>\n",
       "      <td>2</td>\n",
       "      <td>2017-04-25</td>\n",
       "      <td>WN</td>\n",
       "      <td>19393</td>\n",
       "      <td>WN</td>\n",
       "      <td>N8696E</td>\n",
       "      <td>...</td>\n",
       "      <td>NaN</td>\n",
       "      <td>NaN</td>\n",
       "      <td>NaN</td>\n",
       "      <td>NaN</td>\n",
       "      <td>NaN</td>\n",
       "      <td>NaN</td>\n",
       "      <td>NaN</td>\n",
       "      <td>NaN</td>\n",
       "      <td>NaN</td>\n",
       "      <td>NaN</td>\n",
       "    </tr>\n",
       "  </tbody>\n",
       "</table>\n",
       "<p>2 rows × 110 columns</p>\n",
       "</div>"
      ],
      "text/plain": [
       "        Year  Quarter  Month  DayofMonth  DayOfWeek  FlightDate UniqueCarrier  \\\n",
       "468304  2017        2      4          25          2  2017-04-25            WN   \n",
       "468309  2017        2      4          25          2  2017-04-25            WN   \n",
       "\n",
       "        AirlineID Carrier TailNum      ...       Div4TailNum  Div5Airport  \\\n",
       "468304      19393      WN  N7738A      ...               NaN          NaN   \n",
       "468309      19393      WN  N8696E      ...               NaN          NaN   \n",
       "\n",
       "        Div5AirportID  Div5AirportSeqID Div5WheelsOn Div5TotalGTime  \\\n",
       "468304            NaN               NaN          NaN            NaN   \n",
       "468309            NaN               NaN          NaN            NaN   \n",
       "\n",
       "       Div5LongestGTime  Div5WheelsOff Div5TailNum  Unnamed: 109  \n",
       "468304              NaN            NaN         NaN           NaN  \n",
       "468309              NaN            NaN         NaN           NaN  \n",
       "\n",
       "[2 rows x 110 columns]"
      ]
     },
     "execution_count": 6,
     "metadata": {},
     "output_type": "execute_result"
    }
   ],
   "source": [
    "data.tail(2)#Showing bottom 2 rows as sampled data is ordered by time with latest data at the bottom"
   ]
  },
  {
   "cell_type": "markdown",
   "metadata": {},
   "source": [
    "###### Sparsity: \n",
    "Columns with >80% missing values are worth not pursuing for analysis and cannot be imputed sensibly as well"
   ]
  },
  {
   "cell_type": "code",
   "execution_count": 7,
   "metadata": {
    "collapsed": false
   },
   "outputs": [
    {
     "name": "stdout",
     "output_type": "stream",
     "text": [
      "Dimension reduced to:\n"
     ]
    },
    {
     "data": {
      "text/plain": [
       "56"
      ]
     },
     "execution_count": 7,
     "metadata": {},
     "output_type": "execute_result"
    }
   ],
   "source": [
    "data = data.iloc[:,0:56]#Removing sparse columns based on the information given in DOT website\n",
    "print('Dimension reduced to:')\n",
    "len(data.columns)"
   ]
  },
  {
   "cell_type": "code",
   "execution_count": 8,
   "metadata": {
    "collapsed": false,
    "scrolled": true
   },
   "outputs": [
    {
     "name": "stdout",
     "output_type": "stream",
     "text": [
      "Dimension reduced to:\n",
      "56\n",
      "Sparsity per variable:\n"
     ]
    },
    {
     "data": {
      "text/plain": [
       "Year                    0.0\n",
       "Quarter                 0.0\n",
       "Month                   0.0\n",
       "DayofMonth              0.0\n",
       "DayOfWeek               0.0\n",
       "FlightDate              0.0\n",
       "UniqueCarrier           0.0\n",
       "AirlineID               0.0\n",
       "Carrier                 0.0\n",
       "TailNum                 0.0\n",
       "FlightNum               0.0\n",
       "OriginAirportID         0.0\n",
       "OriginAirportSeqID      0.0\n",
       "OriginCityMarketID      0.0\n",
       "Origin                  0.0\n",
       "OriginCityName          0.0\n",
       "OriginState             0.0\n",
       "OriginStateFips         0.0\n",
       "OriginStateName         0.0\n",
       "OriginWac               0.0\n",
       "DestAirportID           0.0\n",
       "DestAirportSeqID        0.0\n",
       "DestCityMarketID        0.0\n",
       "Dest                    0.0\n",
       "DestCityName            0.0\n",
       "DestState               0.0\n",
       "DestStateFips           0.0\n",
       "DestStateName           0.0\n",
       "DestWac                 0.0\n",
       "CRSDepTime              0.0\n",
       "DepTime                 0.0\n",
       "DepDelay                0.0\n",
       "DepDelayMinutes         0.0\n",
       "DepDel15                0.0\n",
       "DepartureDelayGroups    0.0\n",
       "DepTimeBlk              0.0\n",
       "TaxiOut                 0.0\n",
       "WheelsOff               0.0\n",
       "WheelsOn                0.0\n",
       "TaxiIn                  0.0\n",
       "CRSArrTime              0.0\n",
       "ArrTime                 0.0\n",
       "ArrDelay                0.0\n",
       "ArrDelayMinutes         0.0\n",
       "ArrDel15                0.0\n",
       "ArrivalDelayGroups      0.0\n",
       "ArrTimeBlk              0.0\n",
       "Cancelled               0.0\n",
       "CancellationCode        1.0\n",
       "Diverted                0.0\n",
       "CRSElapsedTime          0.0\n",
       "ActualElapsedTime       0.0\n",
       "AirTime                 0.0\n",
       "Flights                 0.0\n",
       "Distance                0.0\n",
       "DistanceGroup           0.0\n",
       "dtype: float64"
      ]
     },
     "execution_count": 8,
     "metadata": {},
     "output_type": "execute_result"
    }
   ],
   "source": [
    "print('Dimension reduced to:')\n",
    "print(len(data.columns))\n",
    "print('Sparsity per variable:')\n",
    "((len(data.index) - data.count())/len(data.index))#Sparsity per variable retained"
   ]
  },
  {
   "cell_type": "code",
   "execution_count": 9,
   "metadata": {
    "collapsed": true
   },
   "outputs": [],
   "source": [
    "data.drop(['DepDelay','DepDel15','ArrDelay','DepDelayMinutes','ArrDelayMinutes'],\n",
    "          axis=1, inplace=True)#To be excluded as per the task\n",
    "data.drop(['CancellationCode'], axis=1, inplace=True)#Removed due to 100% sparsity as seen in above cell\n",
    "data[\"FlightDate\"] = data[\"FlightDate\"].apply(lambda x: int(''.join(x.split(\"-\"))))#Formatting date for convinience"
   ]
  },
  {
   "cell_type": "code",
   "execution_count": 10,
   "metadata": {
    "collapsed": false,
    "scrolled": true
   },
   "outputs": [
    {
     "name": "stdout",
     "output_type": "stream",
     "text": [
      "Datatype of variables:\n"
     ]
    },
    {
     "data": {
      "text/plain": [
       "Year                      int64\n",
       "Quarter                   int64\n",
       "Month                     int64\n",
       "DayofMonth                int64\n",
       "DayOfWeek                 int64\n",
       "FlightDate                int64\n",
       "UniqueCarrier            object\n",
       "AirlineID                 int64\n",
       "Carrier                  object\n",
       "TailNum                  object\n",
       "FlightNum                 int64\n",
       "OriginAirportID           int64\n",
       "OriginAirportSeqID        int64\n",
       "OriginCityMarketID        int64\n",
       "Origin                   object\n",
       "OriginCityName           object\n",
       "OriginState              object\n",
       "OriginStateFips           int64\n",
       "OriginStateName          object\n",
       "OriginWac                 int64\n",
       "DestAirportID             int64\n",
       "DestAirportSeqID          int64\n",
       "DestCityMarketID          int64\n",
       "Dest                     object\n",
       "DestCityName             object\n",
       "DestState                object\n",
       "DestStateFips             int64\n",
       "DestStateName            object\n",
       "DestWac                   int64\n",
       "CRSDepTime                int64\n",
       "DepTime                 float64\n",
       "DepartureDelayGroups    float64\n",
       "DepTimeBlk               object\n",
       "TaxiOut                 float64\n",
       "WheelsOff               float64\n",
       "WheelsOn                float64\n",
       "TaxiIn                  float64\n",
       "CRSArrTime                int64\n",
       "ArrTime                 float64\n",
       "ArrDel15                float64\n",
       "ArrivalDelayGroups      float64\n",
       "ArrTimeBlk               object\n",
       "Cancelled               float64\n",
       "Diverted                float64\n",
       "CRSElapsedTime          float64\n",
       "ActualElapsedTime       float64\n",
       "AirTime                 float64\n",
       "Flights                 float64\n",
       "Distance                float64\n",
       "DistanceGroup             int64\n",
       "dtype: object"
      ]
     },
     "execution_count": 10,
     "metadata": {},
     "output_type": "execute_result"
    }
   ],
   "source": [
    "print('Datatype of variables:')\n",
    "data.dtypes#Checking variable data type as numeric type is most easy to deal with"
   ]
  },
  {
   "cell_type": "markdown",
   "metadata": {},
   "source": [
    "### Exploratory Analysis"
   ]
  },
  {
   "cell_type": "code",
   "execution_count": 11,
   "metadata": {
    "collapsed": false,
    "scrolled": true
   },
   "outputs": [
    {
     "data": {
      "text/plain": [
       "<matplotlib.figure.Figure at 0x1dd19bcc400>"
      ]
     },
     "metadata": {},
     "output_type": "display_data"
    },
    {
     "data": {
      "image/png": "[encoded data removed]",
      "text/plain": [
       "<matplotlib.figure.Figure at 0x1dd3a9a2828>"
      ]
     },
     "metadata": {},
     "output_type": "display_data"
    },
    {
     "data": {
      "image/png": "[encoded data removed]",
      "text/plain": [
       "<matplotlib.figure.Figure at 0x1dd0202bc88>"
      ]
     },
     "metadata": {},
     "output_type": "display_data"
    },
    {
     "data": {
      "image/png": "[encoded data removed]",
      "text/plain": [
       "<matplotlib.figure.Figure at 0x1dd02062908>"
      ]
     },
     "metadata": {},
     "output_type": "display_data"
    },
    {
     "data": {
      "image/png": "[encoded data removed]",
      "text/plain": [
       "<matplotlib.figure.Figure at 0x1dd02142780>"
      ]
     },
     "metadata": {},
     "output_type": "display_data"
    },
    {
     "data": {
      "image/png": "[encoded data removed]",
      "text/plain": [
       "<matplotlib.figure.Figure at 0x1dd029dce10>"
      ]
     },
     "metadata": {},
     "output_type": "display_data"
    },
    {
     "data": {
      "image/png": "[encoded data removed]",
      "text/plain": [
       "<matplotlib.figure.Figure at 0x1dd02a6c7b8>"
      ]
     },
     "metadata": {},
     "output_type": "display_data"
    },
    {
     "data": {
      "image/png": "[encoded data removed]",
      "text/plain": [
       "<matplotlib.figure.Figure at 0x1dd02a9ecf8>"
      ]
     },
     "metadata": {},
     "output_type": "display_data"
    },
    {
     "data": {
      "image/png": "[encoded data removed]",
      "text/plain": [
       "<matplotlib.figure.Figure at 0x1dd04e29d30>"
      ]
     },
     "metadata": {},
     "output_type": "display_data"
    }
   ],
   "source": [
    "# Proportion of late flights per category based on all other flights\n",
    "\n",
    "avgLate = np.sum(data['ArrDel15'])/len(data['ArrDel15'])\n",
    "attributes = ['Month','DayOfWeek', 'DayofMonth', 'DepTimeBlk','ArrTimeBlk','UniqueCarrier',\n",
    "             'ArrivalDelayGroups','DepartureDelayGroups']\n",
    "for i,pred in enumerate(attributes):\n",
    "    plt.figure(i, figsize=(15, 5))\n",
    "    group = data.groupby([pred], as_index=False).aggregate(np.mean)[[pred, 'ArrDel15']]\n",
    "    group.sort_values(by=pred, inplace=True)    \n",
    "    group.plot.bar(x=pred, y='ArrDel15')\n",
    "    plt.axhline(y=avgLate, label='Average')\n",
    "    plt.ylabel('Percent of Flights that Arrive Late')\n",
    "    plt.title(pred)\n",
    "    plt.legend().remove()"
   ]
  },
  {
   "cell_type": "markdown",
   "metadata": {},
   "source": [
    "###### Exploratory analysis reveals:\n",
    "\n",
    "    (1) Delay changes substantially with Month e.g. higher delays in Winter months   \n",
    "    (2) Not much variation within week and day of month    \n",
    "    (3) Higher delays for flights with departure and arrival time blocks from 3pm until midnight   \n",
    "        (a) There seems to be a lag in the pattern for arrival time block   \n",
    "        (b) Pattern starts with departure time block around 2pm and lasts until midnight    \n",
    "        (c) Pattern starts with arrival time block around 4pm and lasts until 1am (with a lag of 1-2hrs)   \n",
    "    (5)Similar pattern is observed for arrival and departure delay groups    "
   ]
  },
  {
   "cell_type": "markdown",
   "metadata": {},
   "source": [
    "###### Label encoding:\n",
    "    Conversion of categorical values to numericals"
   ]
  },
  {
   "cell_type": "code",
   "execution_count": 12,
   "metadata": {
    "collapsed": false
   },
   "outputs": [],
   "source": [
    "le = LabelEncoder()\n",
    "\n",
    "data[\"Unique_Carrier\"] = le.fit_transform(data[\"UniqueCarrier\"])\n",
    "UniqueCarrier = list(le.classes_)\n",
    "data[\"Carrier_Name\"] = le.fit_transform(data[\"Carrier\"])\n",
    "Carrier = list(le.classes_)\n",
    "data[\"Tail_Number\"] = le.fit_transform(data[\"TailNum\"])\n",
    "TailNum = list(le.classes_)\n",
    "\n",
    "data[\"Origin_Point\"] = le.fit_transform(data[\"Origin\"])\n",
    "Origin = list(le.classes_)\n",
    "data[\"Origin_CityName\"] = le.fit_transform(data[\"OriginCityName\"])\n",
    "OriginCityName = list(le.classes_)\n",
    "data[\"Origin_State\"] = le.fit_transform(data[\"OriginState\"])\n",
    "OriginState = list(le.classes_)\n",
    "data[\"OriginState_Name\"] = le.fit_transform(data[\"OriginStateName\"])\n",
    "OriginStateName = list(le.classes_)\n",
    "\n",
    "data[\"Destination\"] = le.fit_transform(data[\"Dest\"])\n",
    "Dest = list(le.classes_)\n",
    "data[\"Dest_CityName\"] = le.fit_transform(data[\"DestCityName\"])\n",
    "DestCityName = list(le.classes_)\n",
    "data[\"Dest_State\"] = le.fit_transform(data[\"DestState\"])\n",
    "DestState = list(le.classes_)\n",
    "data[\"Dest_StateName\"] = le.fit_transform(data[\"DestStateName\"])\n",
    "DestStateName = list(le.classes_)\n",
    "\n",
    "data[\"DepTime_Blk\"] = le.fit_transform(data[\"DepTimeBlk\"])\n",
    "DepTimeBlk = list(le.classes_)\n",
    "data[\"ArrTime_Blk\"] = le.fit_transform(data[\"ArrTimeBlk\"])\n",
    "ArrTimeBlk = list(le.classes_)"
   ]
  },
  {
   "cell_type": "code",
   "execution_count": 13,
   "metadata": {
    "collapsed": true
   },
   "outputs": [],
   "source": [
    "data.drop(['UniqueCarrier','Carrier','TailNum',\n",
    "           'Origin','OriginCityName','OriginState','OriginStateName',\n",
    "          'Dest','DestCityName','DestState','DestStateName',\n",
    "          'DepTimeBlk','ArrTimeBlk'], axis=1, inplace=True)#Removing original encoded columns"
   ]
  },
  {
   "cell_type": "code",
   "execution_count": 14,
   "metadata": {
    "collapsed": true
   },
   "outputs": [],
   "source": [
    "data.drop(['DepartureDelayGroups','ArrivalDelayGroups'], axis=1, inplace=True)#Removing delay details as per the task"
   ]
  },
  {
   "cell_type": "code",
   "execution_count": 15,
   "metadata": {
    "collapsed": false
   },
   "outputs": [
    {
     "name": "stdout",
     "output_type": "stream",
     "text": [
      "Dimension reduced to:\n",
      "48\n"
     ]
    },
    {
     "data": {
      "text/html": [
       "<div>\n",
       "<table border=\"1\" class=\"dataframe\">\n",
       "  <thead>\n",
       "    <tr style=\"text-align: right;\">\n",
       "      <th></th>\n",
       "      <th>Year</th>\n",
       "      <th>Quarter</th>\n",
       "      <th>Month</th>\n",
       "      <th>DayofMonth</th>\n",
       "      <th>DayOfWeek</th>\n",
       "      <th>FlightDate</th>\n",
       "      <th>AirlineID</th>\n",
       "      <th>FlightNum</th>\n",
       "      <th>OriginAirportID</th>\n",
       "      <th>OriginAirportSeqID</th>\n",
       "      <th>...</th>\n",
       "      <th>Origin_Point</th>\n",
       "      <th>Origin_CityName</th>\n",
       "      <th>Origin_State</th>\n",
       "      <th>OriginState_Name</th>\n",
       "      <th>Destination</th>\n",
       "      <th>Dest_CityName</th>\n",
       "      <th>Dest_State</th>\n",
       "      <th>Dest_StateName</th>\n",
       "      <th>DepTime_Blk</th>\n",
       "      <th>ArrTime_Blk</th>\n",
       "    </tr>\n",
       "  </thead>\n",
       "  <tbody>\n",
       "    <tr>\n",
       "      <th>count</th>\n",
       "      <td>1.010416e+06</td>\n",
       "      <td>1.010416e+06</td>\n",
       "      <td>1.010416e+06</td>\n",
       "      <td>1.010416e+06</td>\n",
       "      <td>1.010416e+06</td>\n",
       "      <td>1.010416e+06</td>\n",
       "      <td>1.010416e+06</td>\n",
       "      <td>1.010416e+06</td>\n",
       "      <td>1.010416e+06</td>\n",
       "      <td>1.010416e+06</td>\n",
       "      <td>...</td>\n",
       "      <td>1.010416e+06</td>\n",
       "      <td>1.010416e+06</td>\n",
       "      <td>1.010416e+06</td>\n",
       "      <td>1.010416e+06</td>\n",
       "      <td>1.010416e+06</td>\n",
       "      <td>1.010416e+06</td>\n",
       "      <td>1.010416e+06</td>\n",
       "      <td>1.010416e+06</td>\n",
       "      <td>1.010416e+06</td>\n",
       "      <td>1.010416e+06</td>\n",
       "    </tr>\n",
       "    <tr>\n",
       "      <th>mean</th>\n",
       "      <td>2.016839e+03</td>\n",
       "      <td>1.937602e+00</td>\n",
       "      <td>4.587088e+00</td>\n",
       "      <td>1.563237e+01</td>\n",
       "      <td>3.992616e+00</td>\n",
       "      <td>2.016887e+07</td>\n",
       "      <td>1.987554e+04</td>\n",
       "      <td>2.135821e+03</td>\n",
       "      <td>1.273245e+04</td>\n",
       "      <td>1.273248e+06</td>\n",
       "      <td>...</td>\n",
       "      <td>1.543822e+02</td>\n",
       "      <td>1.491944e+02</td>\n",
       "      <td>2.035234e+01</td>\n",
       "      <td>2.015446e+01</td>\n",
       "      <td>1.558787e+02</td>\n",
       "      <td>1.516126e+02</td>\n",
       "      <td>2.023040e+01</td>\n",
       "      <td>2.002397e+01</td>\n",
       "      <td>8.456471e+00</td>\n",
       "      <td>1.012415e+01</td>\n",
       "    </tr>\n",
       "    <tr>\n",
       "      <th>std</th>\n",
       "      <td>3.673366e-01</td>\n",
       "      <td>1.011554e+00</td>\n",
       "      <td>3.228034e+00</td>\n",
       "      <td>8.667526e+00</td>\n",
       "      <td>2.002875e+00</td>\n",
       "      <td>3.365648e+03</td>\n",
       "      <td>4.111022e+02</td>\n",
       "      <td>1.747295e+03</td>\n",
       "      <td>1.523538e+03</td>\n",
       "      <td>1.523535e+05</td>\n",
       "      <td>...</td>\n",
       "      <td>8.361475e+01</td>\n",
       "      <td>8.549043e+01</td>\n",
       "      <td>1.533670e+01</td>\n",
       "      <td>1.529052e+01</td>\n",
       "      <td>8.358153e+01</td>\n",
       "      <td>8.520938e+01</td>\n",
       "      <td>1.535964e+01</td>\n",
       "      <td>1.530772e+01</td>\n",
       "      <td>4.778709e+00</td>\n",
       "      <td>4.950402e+00</td>\n",
       "    </tr>\n",
       "    <tr>\n",
       "      <th>min</th>\n",
       "      <td>2.016000e+03</td>\n",
       "      <td>1.000000e+00</td>\n",
       "      <td>1.000000e+00</td>\n",
       "      <td>1.000000e+00</td>\n",
       "      <td>1.000000e+00</td>\n",
       "      <td>2.016110e+07</td>\n",
       "      <td>1.939300e+04</td>\n",
       "      <td>1.000000e+00</td>\n",
       "      <td>1.013500e+04</td>\n",
       "      <td>1.013503e+06</td>\n",
       "      <td>...</td>\n",
       "      <td>0.000000e+00</td>\n",
       "      <td>0.000000e+00</td>\n",
       "      <td>0.000000e+00</td>\n",
       "      <td>0.000000e+00</td>\n",
       "      <td>0.000000e+00</td>\n",
       "      <td>0.000000e+00</td>\n",
       "      <td>0.000000e+00</td>\n",
       "      <td>0.000000e+00</td>\n",
       "      <td>0.000000e+00</td>\n",
       "      <td>0.000000e+00</td>\n",
       "    </tr>\n",
       "    <tr>\n",
       "      <th>25%</th>\n",
       "      <td>2.017000e+03</td>\n",
       "      <td>1.000000e+00</td>\n",
       "      <td>3.000000e+00</td>\n",
       "      <td>8.000000e+00</td>\n",
       "      <td>2.000000e+00</td>\n",
       "      <td>2.017013e+07</td>\n",
       "      <td>1.939300e+04</td>\n",
       "      <td>7.240000e+02</td>\n",
       "      <td>1.129200e+04</td>\n",
       "      <td>1.129202e+06</td>\n",
       "      <td>...</td>\n",
       "      <td>7.800000e+01</td>\n",
       "      <td>7.100000e+01</td>\n",
       "      <td>7.000000e+00</td>\n",
       "      <td>7.000000e+00</td>\n",
       "      <td>7.800000e+01</td>\n",
       "      <td>7.200000e+01</td>\n",
       "      <td>7.000000e+00</td>\n",
       "      <td>7.000000e+00</td>\n",
       "      <td>4.000000e+00</td>\n",
       "      <td>6.000000e+00</td>\n",
       "    </tr>\n",
       "    <tr>\n",
       "      <th>50%</th>\n",
       "      <td>2.017000e+03</td>\n",
       "      <td>2.000000e+00</td>\n",
       "      <td>4.000000e+00</td>\n",
       "      <td>1.600000e+01</td>\n",
       "      <td>4.000000e+00</td>\n",
       "      <td>2.017033e+07</td>\n",
       "      <td>1.980500e+04</td>\n",
       "      <td>1.636000e+03</td>\n",
       "      <td>1.289200e+04</td>\n",
       "      <td>1.289204e+06</td>\n",
       "      <td>...</td>\n",
       "      <td>1.640000e+02</td>\n",
       "      <td>1.670000e+02</td>\n",
       "      <td>1.700000e+01</td>\n",
       "      <td>1.800000e+01</td>\n",
       "      <td>1.640000e+02</td>\n",
       "      <td>1.700000e+02</td>\n",
       "      <td>1.700000e+01</td>\n",
       "      <td>1.800000e+01</td>\n",
       "      <td>9.000000e+00</td>\n",
       "      <td>1.100000e+01</td>\n",
       "    </tr>\n",
       "    <tr>\n",
       "      <th>75%</th>\n",
       "      <td>2.017000e+03</td>\n",
       "      <td>2.000000e+00</td>\n",
       "      <td>4.000000e+00</td>\n",
       "      <td>2.300000e+01</td>\n",
       "      <td>6.000000e+00</td>\n",
       "      <td>2.017041e+07</td>\n",
       "      <td>2.030400e+04</td>\n",
       "      <td>3.097000e+03</td>\n",
       "      <td>1.405700e+04</td>\n",
       "      <td>1.405702e+06</td>\n",
       "      <td>...</td>\n",
       "      <td>2.230000e+02</td>\n",
       "      <td>2.240000e+02</td>\n",
       "      <td>3.300000e+01</td>\n",
       "      <td>3.300000e+01</td>\n",
       "      <td>2.260000e+02</td>\n",
       "      <td>2.240000e+02</td>\n",
       "      <td>3.300000e+01</td>\n",
       "      <td>3.300000e+01</td>\n",
       "      <td>1.200000e+01</td>\n",
       "      <td>1.400000e+01</td>\n",
       "    </tr>\n",
       "    <tr>\n",
       "      <th>max</th>\n",
       "      <td>2.017000e+03</td>\n",
       "      <td>4.000000e+00</td>\n",
       "      <td>1.200000e+01</td>\n",
       "      <td>3.100000e+01</td>\n",
       "      <td>7.000000e+00</td>\n",
       "      <td>2.017043e+07</td>\n",
       "      <td>2.117100e+04</td>\n",
       "      <td>7.439000e+03</td>\n",
       "      <td>1.621800e+04</td>\n",
       "      <td>1.621801e+06</td>\n",
       "      <td>...</td>\n",
       "      <td>3.040000e+02</td>\n",
       "      <td>3.000000e+02</td>\n",
       "      <td>5.100000e+01</td>\n",
       "      <td>5.100000e+01</td>\n",
       "      <td>3.040000e+02</td>\n",
       "      <td>3.000000e+02</td>\n",
       "      <td>5.100000e+01</td>\n",
       "      <td>5.100000e+01</td>\n",
       "      <td>1.800000e+01</td>\n",
       "      <td>1.800000e+01</td>\n",
       "    </tr>\n",
       "  </tbody>\n",
       "</table>\n",
       "<p>8 rows × 48 columns</p>\n",
       "</div>"
      ],
      "text/plain": [
       "               Year       Quarter         Month    DayofMonth     DayOfWeek  \\\n",
       "count  1.010416e+06  1.010416e+06  1.010416e+06  1.010416e+06  1.010416e+06   \n",
       "mean   2.016839e+03  1.937602e+00  4.587088e+00  1.563237e+01  3.992616e+00   \n",
       "std    3.673366e-01  1.011554e+00  3.228034e+00  8.667526e+00  2.002875e+00   \n",
       "min    2.016000e+03  1.000000e+00  1.000000e+00  1.000000e+00  1.000000e+00   \n",
       "25%    2.017000e+03  1.000000e+00  3.000000e+00  8.000000e+00  2.000000e+00   \n",
       "50%    2.017000e+03  2.000000e+00  4.000000e+00  1.600000e+01  4.000000e+00   \n",
       "75%    2.017000e+03  2.000000e+00  4.000000e+00  2.300000e+01  6.000000e+00   \n",
       "max    2.017000e+03  4.000000e+00  1.200000e+01  3.100000e+01  7.000000e+00   \n",
       "\n",
       "         FlightDate     AirlineID     FlightNum  OriginAirportID  \\\n",
       "count  1.010416e+06  1.010416e+06  1.010416e+06     1.010416e+06   \n",
       "mean   2.016887e+07  1.987554e+04  2.135821e+03     1.273245e+04   \n",
       "std    3.365648e+03  4.111022e+02  1.747295e+03     1.523538e+03   \n",
       "min    2.016110e+07  1.939300e+04  1.000000e+00     1.013500e+04   \n",
       "25%    2.017013e+07  1.939300e+04  7.240000e+02     1.129200e+04   \n",
       "50%    2.017033e+07  1.980500e+04  1.636000e+03     1.289200e+04   \n",
       "75%    2.017041e+07  2.030400e+04  3.097000e+03     1.405700e+04   \n",
       "max    2.017043e+07  2.117100e+04  7.439000e+03     1.621800e+04   \n",
       "\n",
       "       OriginAirportSeqID      ...       Origin_Point  Origin_CityName  \\\n",
       "count        1.010416e+06      ...       1.010416e+06     1.010416e+06   \n",
       "mean         1.273248e+06      ...       1.543822e+02     1.491944e+02   \n",
       "std          1.523535e+05      ...       8.361475e+01     8.549043e+01   \n",
       "min          1.013503e+06      ...       0.000000e+00     0.000000e+00   \n",
       "25%          1.129202e+06      ...       7.800000e+01     7.100000e+01   \n",
       "50%          1.289204e+06      ...       1.640000e+02     1.670000e+02   \n",
       "75%          1.405702e+06      ...       2.230000e+02     2.240000e+02   \n",
       "max          1.621801e+06      ...       3.040000e+02     3.000000e+02   \n",
       "\n",
       "       Origin_State  OriginState_Name   Destination  Dest_CityName  \\\n",
       "count  1.010416e+06      1.010416e+06  1.010416e+06   1.010416e+06   \n",
       "mean   2.035234e+01      2.015446e+01  1.558787e+02   1.516126e+02   \n",
       "std    1.533670e+01      1.529052e+01  8.358153e+01   8.520938e+01   \n",
       "min    0.000000e+00      0.000000e+00  0.000000e+00   0.000000e+00   \n",
       "25%    7.000000e+00      7.000000e+00  7.800000e+01   7.200000e+01   \n",
       "50%    1.700000e+01      1.800000e+01  1.640000e+02   1.700000e+02   \n",
       "75%    3.300000e+01      3.300000e+01  2.260000e+02   2.240000e+02   \n",
       "max    5.100000e+01      5.100000e+01  3.040000e+02   3.000000e+02   \n",
       "\n",
       "         Dest_State  Dest_StateName   DepTime_Blk   ArrTime_Blk  \n",
       "count  1.010416e+06    1.010416e+06  1.010416e+06  1.010416e+06  \n",
       "mean   2.023040e+01    2.002397e+01  8.456471e+00  1.012415e+01  \n",
       "std    1.535964e+01    1.530772e+01  4.778709e+00  4.950402e+00  \n",
       "min    0.000000e+00    0.000000e+00  0.000000e+00  0.000000e+00  \n",
       "25%    7.000000e+00    7.000000e+00  4.000000e+00  6.000000e+00  \n",
       "50%    1.700000e+01    1.800000e+01  9.000000e+00  1.100000e+01  \n",
       "75%    3.300000e+01    3.300000e+01  1.200000e+01  1.400000e+01  \n",
       "max    5.100000e+01    5.100000e+01  1.800000e+01  1.800000e+01  \n",
       "\n",
       "[8 rows x 48 columns]"
      ]
     },
     "execution_count": 15,
     "metadata": {},
     "output_type": "execute_result"
    }
   ],
   "source": [
    "print('Dimension reduced to:')\n",
    "print(len(data.columns))\n",
    "data.describe()"
   ]
  },
  {
   "cell_type": "markdown",
   "metadata": {},
   "source": [
    "All variables are now numeric. But above statistics makes sense only for originally numeric variables. For e.g. central tendency measures for Year, Airline ID etc. do not make much sense."
   ]
  },
  {
   "cell_type": "markdown",
   "metadata": {},
   "source": [
    "# Machine Learning Modeling"
   ]
  },
  {
   "cell_type": "markdown",
   "metadata": {},
   "source": [
    "### Random Forest is chosen for Machine Learning due to following reasons:\n",
    "(1) Large data size   \n",
    "(2) Categorical nature of many variables   \n",
    "(3) Non-linearity of dataset (LinearRegression was attempted but had high MSE; Linear relation doesn't exist for many variables)  \n",
    "(4) Underlying complex dependencies between variables"
   ]
  },
  {
   "cell_type": "markdown",
   "metadata": {},
   "source": [
    "## PART 2: Model creation with original raw data"
   ]
  },
  {
   "cell_type": "markdown",
   "metadata": {},
   "source": [
    "### Feature Selection to remove redundant variables"
   ]
  },
  {
   "cell_type": "markdown",
   "metadata": {},
   "source": [
    "###### Creation of data subset:\n",
    "- Predictor and target variable columns along with some basic statistics"
   ]
  },
  {
   "cell_type": "code",
   "execution_count": 16,
   "metadata": {
    "collapsed": false
   },
   "outputs": [
    {
     "name": "stdout",
     "output_type": "stream",
     "text": [
      "Dimension reduced to:\n",
      "47\n"
     ]
    },
    {
     "data": {
      "text/html": [
       "<div>\n",
       "<table border=\"1\" class=\"dataframe\">\n",
       "  <thead>\n",
       "    <tr style=\"text-align: right;\">\n",
       "      <th></th>\n",
       "      <th>Year</th>\n",
       "      <th>Quarter</th>\n",
       "      <th>Month</th>\n",
       "      <th>DayofMonth</th>\n",
       "      <th>DayOfWeek</th>\n",
       "      <th>FlightDate</th>\n",
       "      <th>AirlineID</th>\n",
       "      <th>FlightNum</th>\n",
       "      <th>OriginAirportID</th>\n",
       "      <th>OriginAirportSeqID</th>\n",
       "      <th>...</th>\n",
       "      <th>Origin_Point</th>\n",
       "      <th>Origin_CityName</th>\n",
       "      <th>Origin_State</th>\n",
       "      <th>OriginState_Name</th>\n",
       "      <th>Destination</th>\n",
       "      <th>Dest_CityName</th>\n",
       "      <th>Dest_State</th>\n",
       "      <th>Dest_StateName</th>\n",
       "      <th>DepTime_Blk</th>\n",
       "      <th>ArrTime_Blk</th>\n",
       "    </tr>\n",
       "  </thead>\n",
       "  <tbody>\n",
       "    <tr>\n",
       "      <th>count</th>\n",
       "      <td>1.010416e+06</td>\n",
       "      <td>1.010416e+06</td>\n",
       "      <td>1.010416e+06</td>\n",
       "      <td>1.010416e+06</td>\n",
       "      <td>1.010416e+06</td>\n",
       "      <td>1.010416e+06</td>\n",
       "      <td>1.010416e+06</td>\n",
       "      <td>1.010416e+06</td>\n",
       "      <td>1.010416e+06</td>\n",
       "      <td>1.010416e+06</td>\n",
       "      <td>...</td>\n",
       "      <td>1.010416e+06</td>\n",
       "      <td>1.010416e+06</td>\n",
       "      <td>1.010416e+06</td>\n",
       "      <td>1.010416e+06</td>\n",
       "      <td>1.010416e+06</td>\n",
       "      <td>1.010416e+06</td>\n",
       "      <td>1.010416e+06</td>\n",
       "      <td>1.010416e+06</td>\n",
       "      <td>1.010416e+06</td>\n",
       "      <td>1.010416e+06</td>\n",
       "    </tr>\n",
       "    <tr>\n",
       "      <th>mean</th>\n",
       "      <td>2.016839e+03</td>\n",
       "      <td>1.937602e+00</td>\n",
       "      <td>4.587088e+00</td>\n",
       "      <td>1.563237e+01</td>\n",
       "      <td>3.992616e+00</td>\n",
       "      <td>2.016887e+07</td>\n",
       "      <td>1.987554e+04</td>\n",
       "      <td>2.135821e+03</td>\n",
       "      <td>1.273245e+04</td>\n",
       "      <td>1.273248e+06</td>\n",
       "      <td>...</td>\n",
       "      <td>1.543822e+02</td>\n",
       "      <td>1.491944e+02</td>\n",
       "      <td>2.035234e+01</td>\n",
       "      <td>2.015446e+01</td>\n",
       "      <td>1.558787e+02</td>\n",
       "      <td>1.516126e+02</td>\n",
       "      <td>2.023040e+01</td>\n",
       "      <td>2.002397e+01</td>\n",
       "      <td>8.456471e+00</td>\n",
       "      <td>1.012415e+01</td>\n",
       "    </tr>\n",
       "    <tr>\n",
       "      <th>std</th>\n",
       "      <td>3.673366e-01</td>\n",
       "      <td>1.011554e+00</td>\n",
       "      <td>3.228034e+00</td>\n",
       "      <td>8.667526e+00</td>\n",
       "      <td>2.002875e+00</td>\n",
       "      <td>3.365648e+03</td>\n",
       "      <td>4.111022e+02</td>\n",
       "      <td>1.747295e+03</td>\n",
       "      <td>1.523538e+03</td>\n",
       "      <td>1.523535e+05</td>\n",
       "      <td>...</td>\n",
       "      <td>8.361475e+01</td>\n",
       "      <td>8.549043e+01</td>\n",
       "      <td>1.533670e+01</td>\n",
       "      <td>1.529052e+01</td>\n",
       "      <td>8.358153e+01</td>\n",
       "      <td>8.520938e+01</td>\n",
       "      <td>1.535964e+01</td>\n",
       "      <td>1.530772e+01</td>\n",
       "      <td>4.778709e+00</td>\n",
       "      <td>4.950402e+00</td>\n",
       "    </tr>\n",
       "    <tr>\n",
       "      <th>min</th>\n",
       "      <td>2.016000e+03</td>\n",
       "      <td>1.000000e+00</td>\n",
       "      <td>1.000000e+00</td>\n",
       "      <td>1.000000e+00</td>\n",
       "      <td>1.000000e+00</td>\n",
       "      <td>2.016110e+07</td>\n",
       "      <td>1.939300e+04</td>\n",
       "      <td>1.000000e+00</td>\n",
       "      <td>1.013500e+04</td>\n",
       "      <td>1.013503e+06</td>\n",
       "      <td>...</td>\n",
       "      <td>0.000000e+00</td>\n",
       "      <td>0.000000e+00</td>\n",
       "      <td>0.000000e+00</td>\n",
       "      <td>0.000000e+00</td>\n",
       "      <td>0.000000e+00</td>\n",
       "      <td>0.000000e+00</td>\n",
       "      <td>0.000000e+00</td>\n",
       "      <td>0.000000e+00</td>\n",
       "      <td>0.000000e+00</td>\n",
       "      <td>0.000000e+00</td>\n",
       "    </tr>\n",
       "    <tr>\n",
       "      <th>25%</th>\n",
       "      <td>2.017000e+03</td>\n",
       "      <td>1.000000e+00</td>\n",
       "      <td>3.000000e+00</td>\n",
       "      <td>8.000000e+00</td>\n",
       "      <td>2.000000e+00</td>\n",
       "      <td>2.017013e+07</td>\n",
       "      <td>1.939300e+04</td>\n",
       "      <td>7.240000e+02</td>\n",
       "      <td>1.129200e+04</td>\n",
       "      <td>1.129202e+06</td>\n",
       "      <td>...</td>\n",
       "      <td>7.800000e+01</td>\n",
       "      <td>7.100000e+01</td>\n",
       "      <td>7.000000e+00</td>\n",
       "      <td>7.000000e+00</td>\n",
       "      <td>7.800000e+01</td>\n",
       "      <td>7.200000e+01</td>\n",
       "      <td>7.000000e+00</td>\n",
       "      <td>7.000000e+00</td>\n",
       "      <td>4.000000e+00</td>\n",
       "      <td>6.000000e+00</td>\n",
       "    </tr>\n",
       "    <tr>\n",
       "      <th>50%</th>\n",
       "      <td>2.017000e+03</td>\n",
       "      <td>2.000000e+00</td>\n",
       "      <td>4.000000e+00</td>\n",
       "      <td>1.600000e+01</td>\n",
       "      <td>4.000000e+00</td>\n",
       "      <td>2.017033e+07</td>\n",
       "      <td>1.980500e+04</td>\n",
       "      <td>1.636000e+03</td>\n",
       "      <td>1.289200e+04</td>\n",
       "      <td>1.289204e+06</td>\n",
       "      <td>...</td>\n",
       "      <td>1.640000e+02</td>\n",
       "      <td>1.670000e+02</td>\n",
       "      <td>1.700000e+01</td>\n",
       "      <td>1.800000e+01</td>\n",
       "      <td>1.640000e+02</td>\n",
       "      <td>1.700000e+02</td>\n",
       "      <td>1.700000e+01</td>\n",
       "      <td>1.800000e+01</td>\n",
       "      <td>9.000000e+00</td>\n",
       "      <td>1.100000e+01</td>\n",
       "    </tr>\n",
       "    <tr>\n",
       "      <th>75%</th>\n",
       "      <td>2.017000e+03</td>\n",
       "      <td>2.000000e+00</td>\n",
       "      <td>4.000000e+00</td>\n",
       "      <td>2.300000e+01</td>\n",
       "      <td>6.000000e+00</td>\n",
       "      <td>2.017041e+07</td>\n",
       "      <td>2.030400e+04</td>\n",
       "      <td>3.097000e+03</td>\n",
       "      <td>1.405700e+04</td>\n",
       "      <td>1.405702e+06</td>\n",
       "      <td>...</td>\n",
       "      <td>2.230000e+02</td>\n",
       "      <td>2.240000e+02</td>\n",
       "      <td>3.300000e+01</td>\n",
       "      <td>3.300000e+01</td>\n",
       "      <td>2.260000e+02</td>\n",
       "      <td>2.240000e+02</td>\n",
       "      <td>3.300000e+01</td>\n",
       "      <td>3.300000e+01</td>\n",
       "      <td>1.200000e+01</td>\n",
       "      <td>1.400000e+01</td>\n",
       "    </tr>\n",
       "    <tr>\n",
       "      <th>max</th>\n",
       "      <td>2.017000e+03</td>\n",
       "      <td>4.000000e+00</td>\n",
       "      <td>1.200000e+01</td>\n",
       "      <td>3.100000e+01</td>\n",
       "      <td>7.000000e+00</td>\n",
       "      <td>2.017043e+07</td>\n",
       "      <td>2.117100e+04</td>\n",
       "      <td>7.439000e+03</td>\n",
       "      <td>1.621800e+04</td>\n",
       "      <td>1.621801e+06</td>\n",
       "      <td>...</td>\n",
       "      <td>3.040000e+02</td>\n",
       "      <td>3.000000e+02</td>\n",
       "      <td>5.100000e+01</td>\n",
       "      <td>5.100000e+01</td>\n",
       "      <td>3.040000e+02</td>\n",
       "      <td>3.000000e+02</td>\n",
       "      <td>5.100000e+01</td>\n",
       "      <td>5.100000e+01</td>\n",
       "      <td>1.800000e+01</td>\n",
       "      <td>1.800000e+01</td>\n",
       "    </tr>\n",
       "  </tbody>\n",
       "</table>\n",
       "<p>8 rows × 48 columns</p>\n",
       "</div>"
      ],
      "text/plain": [
       "               Year       Quarter         Month    DayofMonth     DayOfWeek  \\\n",
       "count  1.010416e+06  1.010416e+06  1.010416e+06  1.010416e+06  1.010416e+06   \n",
       "mean   2.016839e+03  1.937602e+00  4.587088e+00  1.563237e+01  3.992616e+00   \n",
       "std    3.673366e-01  1.011554e+00  3.228034e+00  8.667526e+00  2.002875e+00   \n",
       "min    2.016000e+03  1.000000e+00  1.000000e+00  1.000000e+00  1.000000e+00   \n",
       "25%    2.017000e+03  1.000000e+00  3.000000e+00  8.000000e+00  2.000000e+00   \n",
       "50%    2.017000e+03  2.000000e+00  4.000000e+00  1.600000e+01  4.000000e+00   \n",
       "75%    2.017000e+03  2.000000e+00  4.000000e+00  2.300000e+01  6.000000e+00   \n",
       "max    2.017000e+03  4.000000e+00  1.200000e+01  3.100000e+01  7.000000e+00   \n",
       "\n",
       "         FlightDate     AirlineID     FlightNum  OriginAirportID  \\\n",
       "count  1.010416e+06  1.010416e+06  1.010416e+06     1.010416e+06   \n",
       "mean   2.016887e+07  1.987554e+04  2.135821e+03     1.273245e+04   \n",
       "std    3.365648e+03  4.111022e+02  1.747295e+03     1.523538e+03   \n",
       "min    2.016110e+07  1.939300e+04  1.000000e+00     1.013500e+04   \n",
       "25%    2.017013e+07  1.939300e+04  7.240000e+02     1.129200e+04   \n",
       "50%    2.017033e+07  1.980500e+04  1.636000e+03     1.289200e+04   \n",
       "75%    2.017041e+07  2.030400e+04  3.097000e+03     1.405700e+04   \n",
       "max    2.017043e+07  2.117100e+04  7.439000e+03     1.621800e+04   \n",
       "\n",
       "       OriginAirportSeqID      ...       Origin_Point  Origin_CityName  \\\n",
       "count        1.010416e+06      ...       1.010416e+06     1.010416e+06   \n",
       "mean         1.273248e+06      ...       1.543822e+02     1.491944e+02   \n",
       "std          1.523535e+05      ...       8.361475e+01     8.549043e+01   \n",
       "min          1.013503e+06      ...       0.000000e+00     0.000000e+00   \n",
       "25%          1.129202e+06      ...       7.800000e+01     7.100000e+01   \n",
       "50%          1.289204e+06      ...       1.640000e+02     1.670000e+02   \n",
       "75%          1.405702e+06      ...       2.230000e+02     2.240000e+02   \n",
       "max          1.621801e+06      ...       3.040000e+02     3.000000e+02   \n",
       "\n",
       "       Origin_State  OriginState_Name   Destination  Dest_CityName  \\\n",
       "count  1.010416e+06      1.010416e+06  1.010416e+06   1.010416e+06   \n",
       "mean   2.035234e+01      2.015446e+01  1.558787e+02   1.516126e+02   \n",
       "std    1.533670e+01      1.529052e+01  8.358153e+01   8.520938e+01   \n",
       "min    0.000000e+00      0.000000e+00  0.000000e+00   0.000000e+00   \n",
       "25%    7.000000e+00      7.000000e+00  7.800000e+01   7.200000e+01   \n",
       "50%    1.700000e+01      1.800000e+01  1.640000e+02   1.700000e+02   \n",
       "75%    3.300000e+01      3.300000e+01  2.260000e+02   2.240000e+02   \n",
       "max    5.100000e+01      5.100000e+01  3.040000e+02   3.000000e+02   \n",
       "\n",
       "         Dest_State  Dest_StateName   DepTime_Blk   ArrTime_Blk  \n",
       "count  1.010416e+06    1.010416e+06  1.010416e+06  1.010416e+06  \n",
       "mean   2.023040e+01    2.002397e+01  8.456471e+00  1.012415e+01  \n",
       "std    1.535964e+01    1.530772e+01  4.778709e+00  4.950402e+00  \n",
       "min    0.000000e+00    0.000000e+00  0.000000e+00  0.000000e+00  \n",
       "25%    7.000000e+00    7.000000e+00  4.000000e+00  6.000000e+00  \n",
       "50%    1.700000e+01    1.800000e+01  9.000000e+00  1.100000e+01  \n",
       "75%    3.300000e+01    3.300000e+01  1.200000e+01  1.400000e+01  \n",
       "max    5.100000e+01    5.100000e+01  1.800000e+01  1.800000e+01  \n",
       "\n",
       "[8 rows x 48 columns]"
      ]
     },
     "execution_count": 16,
     "metadata": {},
     "output_type": "execute_result"
    }
   ],
   "source": [
    "#Data set up as predictors and target\n",
    "rfDataOriginal = pd.DataFrame(data)\n",
    "Delay_YesNo = rfDataOriginal['ArrDel15']\n",
    "rfDataOriginal.drop(['ArrDel15'], axis=1, inplace=True)#Removing target variable\n",
    "print('Dimension reduced to:')\n",
    "print(len(rfDataOriginal.columns))\n",
    "data.describe()"
   ]
  },
  {
   "cell_type": "markdown",
   "metadata": {},
   "source": [
    "###### Check for multi-collinearity of variables"
   ]
  },
  {
   "cell_type": "code",
   "execution_count": 17,
   "metadata": {
    "collapsed": false
   },
   "outputs": [
    {
     "data": {
      "image/png": "[encoded data removed]",
      "text/plain": [
       "<matplotlib.figure.Figure at 0x1dd19bcc470>"
      ]
     },
     "metadata": {},
     "output_type": "display_data"
    }
   ],
   "source": [
    "plt.matshow(rfDataOriginal.corr())\n",
    "plt.title('Correlation matrix for MULTI-COLLINEAR data')\n",
    "corr = rfDataOriginal.corr()\n",
    "#corr"
   ]
  },
  {
   "cell_type": "markdown",
   "metadata": {},
   "source": [
    "Note: Darker cells indicate high collinearity"
   ]
  },
  {
   "cell_type": "code",
   "execution_count": 18,
   "metadata": {
    "collapsed": false,
    "scrolled": true
   },
   "outputs": [
    {
     "data": {
      "text/plain": [
       "[('Year', 'FlightDate'),\n",
       " ('Quarter', 'Month'),\n",
       " ('OriginAirportID', 'OriginAirportSeqID'),\n",
       " ('OriginAirportID', 'Origin_Point'),\n",
       " ('OriginAirportSeqID', 'Origin_Point'),\n",
       " ('OriginStateFips', 'Origin_State'),\n",
       " ('OriginStateFips', 'OriginState_Name'),\n",
       " ('DestAirportID', 'DestAirportSeqID'),\n",
       " ('DestAirportID', 'Destination'),\n",
       " ('DestAirportSeqID', 'Destination'),\n",
       " ('DestStateFips', 'Dest_State'),\n",
       " ('DestStateFips', 'Dest_StateName'),\n",
       " ('CRSDepTime', 'DepTime'),\n",
       " ('CRSDepTime', 'WheelsOff'),\n",
       " ('CRSDepTime', 'DepTime_Blk'),\n",
       " ('DepTime', 'WheelsOff'),\n",
       " ('DepTime', 'DepTime_Blk'),\n",
       " ('WheelsOff', 'DepTime_Blk'),\n",
       " ('WheelsOn', 'ArrTime'),\n",
       " ('CRSArrTime', 'ArrTime_Blk'),\n",
       " ('CRSElapsedTime', 'ActualElapsedTime'),\n",
       " ('CRSElapsedTime', 'AirTime'),\n",
       " ('CRSElapsedTime', 'Distance'),\n",
       " ('CRSElapsedTime', 'DistanceGroup'),\n",
       " ('ActualElapsedTime', 'AirTime'),\n",
       " ('ActualElapsedTime', 'Distance'),\n",
       " ('ActualElapsedTime', 'DistanceGroup'),\n",
       " ('AirTime', 'Distance'),\n",
       " ('AirTime', 'DistanceGroup'),\n",
       " ('Distance', 'DistanceGroup'),\n",
       " ('Unique_Carrier', 'Carrier_Name'),\n",
       " ('Origin_State', 'OriginState_Name'),\n",
       " ('Dest_State', 'Dest_StateName')]"
      ]
     },
     "execution_count": 18,
     "metadata": {},
     "output_type": "execute_result"
    }
   ],
   "source": [
    "corr = rfDataOriginal.corr()#Lists all pairs of highly collinear variables\n",
    "indices = np.where(corr > 0.8)\n",
    "indices = [(corr.columns[x], corr.columns[y]) for x, y in zip(*indices)\n",
    "                                        if x != y and x < y]\n",
    "indices"
   ]
  },
  {
   "cell_type": "markdown",
   "metadata": {},
   "source": [
    "###### Removal of only redundant columns\n",
    "Note: Collinearity is not the main consideration here(Part 3 deals with it)"
   ]
  },
  {
   "cell_type": "code",
   "execution_count": 19,
   "metadata": {
    "collapsed": true
   },
   "outputs": [],
   "source": [
    "#Subsetting to remove redundant variables using results from above cell for quick filtering\n",
    "rfDataOriginal.drop(['OriginAirportSeqID','OriginCityMarketID', 'OriginStateFips', 'OriginWac', \n",
    "                     'DestAirportSeqID', 'DestCityMarketID', 'DestStateFips', 'DestWac',\n",
    "                     'CRSDepTime', 'CRSElapsedTime', 'CRSArrTime','Carrier_Name', \n",
    "                     'Origin_Point', 'Origin_CityName', 'Origin_State', 'OriginState_Name', \n",
    "                     'Destination', 'Dest_CityName', 'Dest_State', 'Dest_StateName'], axis=1, inplace=True)"
   ]
  },
  {
   "cell_type": "code",
   "execution_count": 20,
   "metadata": {
    "collapsed": false,
    "scrolled": true
   },
   "outputs": [
    {
     "name": "stdout",
     "output_type": "stream",
     "text": [
      "Dimension finally reduced to:\n",
      "27\n"
     ]
    },
    {
     "data": {
      "text/plain": [
       "['Year',\n",
       " 'Quarter',\n",
       " 'Month',\n",
       " 'DayofMonth',\n",
       " 'DayOfWeek',\n",
       " 'FlightDate',\n",
       " 'AirlineID',\n",
       " 'FlightNum',\n",
       " 'OriginAirportID',\n",
       " 'DestAirportID',\n",
       " 'DepTime',\n",
       " 'TaxiOut',\n",
       " 'WheelsOff',\n",
       " 'WheelsOn',\n",
       " 'TaxiIn',\n",
       " 'ArrTime',\n",
       " 'Cancelled',\n",
       " 'Diverted',\n",
       " 'ActualElapsedTime',\n",
       " 'AirTime',\n",
       " 'Flights',\n",
       " 'Distance',\n",
       " 'DistanceGroup',\n",
       " 'Unique_Carrier',\n",
       " 'Tail_Number',\n",
       " 'DepTime_Blk',\n",
       " 'ArrTime_Blk']"
      ]
     },
     "execution_count": 20,
     "metadata": {},
     "output_type": "execute_result"
    }
   ],
   "source": [
    "print('Dimension finally reduced to:')\n",
    "print(len(rfDataOriginal.columns))\n",
    "list(rfDataOriginal.columns)"
   ]
  },
  {
   "cell_type": "markdown",
   "metadata": {},
   "source": [
    "### Model building with non-redundant variables"
   ]
  },
  {
   "cell_type": "markdown",
   "metadata": {},
   "source": [
    "###### Train/test split\n",
    "- Train:Test split = 80:20"
   ]
  },
  {
   "cell_type": "code",
   "execution_count": 21,
   "metadata": {
    "collapsed": true
   },
   "outputs": [],
   "source": [
    "X_train, X_test, Y_train, Y_test = train_test_split(rfDataOriginal, Delay_YesNo, test_size=0.2, random_state=42)"
   ]
  },
  {
   "cell_type": "markdown",
   "metadata": {},
   "source": [
    "###### Grid search\n",
    "- Grid search is not performed for all the desired parameter combinations and values due to computational time"
   ]
  },
  {
   "cell_type": "code",
   "execution_count": 22,
   "metadata": {
    "collapsed": false
   },
   "outputs": [
    {
     "name": "stdout",
     "output_type": "stream",
     "text": [
      "Random forest Grid Search with non-redundant variables took [ 0:08:04.574089 ] seconds.\n"
     ]
    }
   ],
   "source": [
    "startTimeGS = datetime.now()\n",
    "from sklearn.grid_search import GridSearchCV\n",
    "rf = RandomForestClassifier()\n",
    "param_grid = {\n",
    "                 'n_estimators': [5, 10],\n",
    "#                 'min_samples_split': [2, 4],\n",
    "#                 'min_samples_leaf': [2, 4],\n",
    "#                 'max_features': ['sqrt', 'log2'],\n",
    "                 \"criterion\" : [\"gini\", \"entropy\"]\n",
    "             }\n",
    "grid_rf = GridSearchCV(rf, param_grid, cv=5)\n",
    "grid_rf.fit(X_train, Y_train)\n",
    "bestModel = grid_rf.best_estimator_\n",
    "bestParameters = grid_rf.best_params_\n",
    "gridScores = grid_rf.grid_scores_\n",
    "print('Random forest Grid Search with non-redundant variables took [', datetime.now() - startTimeGS, '] seconds.')"
   ]
  },
  {
   "cell_type": "markdown",
   "metadata": {},
   "source": [
    "###### Best model, corresponding parameters and CV results\n",
    "- Used for model selection in next step"
   ]
  },
  {
   "cell_type": "code",
   "execution_count": 23,
   "metadata": {
    "collapsed": false
   },
   "outputs": [
    {
     "name": "stdout",
     "output_type": "stream",
     "text": [
      "RandomForestClassifier(bootstrap=True, class_weight=None, criterion='gini',\n",
      "            max_depth=None, max_features='auto', max_leaf_nodes=None,\n",
      "            min_impurity_split=1e-07, min_samples_leaf=1,\n",
      "            min_samples_split=2, min_weight_fraction_leaf=0.0,\n",
      "            n_estimators=10, n_jobs=1, oob_score=False, random_state=None,\n",
      "            verbose=0, warm_start=False)\n",
      "{'criterion': 'gini', 'n_estimators': 10}\n"
     ]
    },
    {
     "data": {
      "text/plain": [
       "[mean: 0.94268, std: 0.00166, params: {'criterion': 'gini', 'n_estimators': 5},\n",
       " mean: 0.94821, std: 0.00127, params: {'criterion': 'gini', 'n_estimators': 10},\n",
       " mean: 0.94360, std: 0.00204, params: {'criterion': 'entropy', 'n_estimators': 5},\n",
       " mean: 0.94726, std: 0.00137, params: {'criterion': 'entropy', 'n_estimators': 10}]"
      ]
     },
     "execution_count": 23,
     "metadata": {},
     "output_type": "execute_result"
    }
   ],
   "source": [
    "print(bestModel)\n",
    "print(bestParameters)\n",
    "gridScores"
   ]
  },
  {
   "cell_type": "markdown",
   "metadata": {},
   "source": [
    "###### Model selection\n",
    "- Best model and parameters from above are used to train the final model on entire training set\n",
    "- 5-fold Cross validation is performed to find the overall error"
   ]
  },
  {
   "cell_type": "code",
   "execution_count": 24,
   "metadata": {
    "collapsed": false
   },
   "outputs": [
    {
     "name": "stdout",
     "output_type": "stream",
     "text": [
      "Mean cross validation score is: 0.94849269784\n",
      "Random forest training and testing with with non-redundant variables took [ 0:03:08.403926 ] seconds.\n"
     ]
    }
   ],
   "source": [
    "startTimeRF = datetime.now()\n",
    "rf = RandomForestClassifier(n_estimators = bestParameters.get('n_estimators'), \n",
    "#                            min_samples_split=bestParameters.get('min_samples_split'),\n",
    "#                           min_samples_leaf = bestParameters.get('min_samples_leaf'),\n",
    "#                           max_features = bestParameters.get('max_features'),\n",
    "                           criterion = bestParameters.get('criterion'))\n",
    "cv = cross_validation.KFold(len(X_train), n_folds=5, shuffle=True, random_state=2)\n",
    "cvScores = cross_val_score(rf, X_train, Y_train, cv=cv)\n",
    "print ('Mean cross validation score is: ' + str(np.mean(cvScores)))\n",
    "rf.fit(X_train, Y_train)\n",
    "print('Random forest training and testing with with non-redundant variables took [', \n",
    "      datetime.now() - startTimeRF, '] seconds.')"
   ]
  },
  {
   "cell_type": "markdown",
   "metadata": {},
   "source": [
    "###### Performance evaluation\n",
    "- Prediction is done on the hold out test set to evaluate performance\n",
    "- Confusion matrix, Accuracy and Recall are computed\n",
    "- ROC curve is also plotted to pictorically depict 'Area under curve (AUC)' as 'Accuracy' "
   ]
  },
  {
   "cell_type": "code",
   "execution_count": 25,
   "metadata": {
    "collapsed": false
   },
   "outputs": [
    {
     "name": "stdout",
     "output_type": "stream",
     "text": [
      "Accuracy: 95.14%\n",
      "Recall: 91.79%\n",
      "Confusion matrix:\n",
      "[[99795  1542]\n",
      " [ 8274 92473]]\n",
      "Area under the ROC curve: 0.0486715347988\n"
     ]
    },
    {
     "data": {
      "image/png": "[encoded data removed]",
      "text/plain": [
       "<matplotlib.figure.Figure at 0x1dd050347b8>"
      ]
     },
     "metadata": {},
     "output_type": "display_data"
    },
    {
     "data": {
      "image/png": "[encoded data removed]",
      "text/plain": [
       "<matplotlib.figure.Figure at 0x1dd080a3518>"
      ]
     },
     "metadata": {},
     "output_type": "display_data"
    }
   ],
   "source": [
    "Y_rf_pred = rf.predict(X_test)\n",
    "\n",
    "labels = [0, 1]\n",
    "cm = confusion_matrix(Y_test, Y_rf_pred,labels)\n",
    "\n",
    "print('Accuracy: ' + str(np.round(100*float(cm[0][0]+cm[1][1])/float((cm[0][0]+cm[1][1] + cm[1][0] + cm[0][1])),2))+'%')\n",
    "print('Recall: ' + str(np.round(100*float((cm[1][1]))/float((cm[1][0]+cm[1][1])),2))+'%')\n",
    "print('Confusion matrix:')\n",
    "print(cm)\n",
    "\n",
    "fpr, tpr, _ = roc_curve(Y_test, Y_rf_pred)\n",
    "auc = np.trapz(fpr,tpr)\n",
    "print('Area under the ROC curve: ' + str(auc))\n",
    "\n",
    "fig = plt.figure(1)\n",
    "plt.plot(fpr,tpr,color='green')\n",
    "plt.xlabel('False positive rate (FPR)')\n",
    "plt.ylabel('True positive rate (TPR)')\n",
    "plt.title('Receiver operating characteristic (ROC)')\n",
    "\n",
    "fig = plt.figure(2)\n",
    "ax = fig.add_subplot(111)\n",
    "cax = ax.matshow(cm)\n",
    "plt.title('Confusion matrix for Random Forest classifier with original data')\n",
    "fig.colorbar(cax)\n",
    "ax.set_xticklabels([''] + labels)\n",
    "ax.set_yticklabels([''] + labels)\n",
    "plt.xlabel('Predicted')\n",
    "plt.ylabel('True')\n",
    "plt.show()"
   ]
  },
  {
   "cell_type": "markdown",
   "metadata": {},
   "source": [
    "### Inferences:\n",
    "- High accuracy was obtained when model was first created.\n",
    "- This prompted cross validation with 5-fold in order to be convinced that it wasnt a chance performance\n",
    "- Accuracy improved when more data was added. More data is always better than any sophisticated model!\n",
    "- Inferences from exploratory analysis was critical in doing feature selection and obtaining good performance\n",
    "- E.g. Certain features (DepTimeBlk, Month etc.) with substantial variation were added to improve performance\n",
    "- Handling of class imbalance improved Accuracy and Recall respectively by more than 10% and 15%"
   ]
  },
  {
   "cell_type": "markdown",
   "metadata": {},
   "source": [
    "## PART 3: Model creation with PCA components"
   ]
  },
  {
   "cell_type": "markdown",
   "metadata": {},
   "source": [
    "### Feature Engineering by removing multi-collinear variables"
   ]
  },
  {
   "cell_type": "markdown",
   "metadata": {},
   "source": [
    "###### Removal of redundant and highly collinear variables from dataset\n",
    "- Highly collinear variables are removed before PCA as they amplify their correlation through the common underlying factor and distort PCA results"
   ]
  },
  {
   "cell_type": "code",
   "execution_count": 26,
   "metadata": {
    "collapsed": false
   },
   "outputs": [
    {
     "name": "stdout",
     "output_type": "stream",
     "text": [
      "Dimension reduced to:\n",
      "28\n"
     ]
    },
    {
     "data": {
      "text/html": [
       "<div>\n",
       "<table border=\"1\" class=\"dataframe\">\n",
       "  <thead>\n",
       "    <tr style=\"text-align: right;\">\n",
       "      <th></th>\n",
       "      <th>Year</th>\n",
       "      <th>Quarter</th>\n",
       "      <th>Month</th>\n",
       "      <th>DayofMonth</th>\n",
       "      <th>DayOfWeek</th>\n",
       "      <th>FlightDate</th>\n",
       "      <th>AirlineID</th>\n",
       "      <th>FlightNum</th>\n",
       "      <th>OriginAirportID</th>\n",
       "      <th>DestAirportID</th>\n",
       "      <th>...</th>\n",
       "      <th>Diverted</th>\n",
       "      <th>ActualElapsedTime</th>\n",
       "      <th>AirTime</th>\n",
       "      <th>Flights</th>\n",
       "      <th>Distance</th>\n",
       "      <th>DistanceGroup</th>\n",
       "      <th>Unique_Carrier</th>\n",
       "      <th>Tail_Number</th>\n",
       "      <th>DepTime_Blk</th>\n",
       "      <th>ArrTime_Blk</th>\n",
       "    </tr>\n",
       "  </thead>\n",
       "  <tbody>\n",
       "    <tr>\n",
       "      <th>count</th>\n",
       "      <td>1.010416e+06</td>\n",
       "      <td>1.010416e+06</td>\n",
       "      <td>1.010416e+06</td>\n",
       "      <td>1.010416e+06</td>\n",
       "      <td>1.010416e+06</td>\n",
       "      <td>1.010416e+06</td>\n",
       "      <td>1.010416e+06</td>\n",
       "      <td>1.010416e+06</td>\n",
       "      <td>1.010416e+06</td>\n",
       "      <td>1.010416e+06</td>\n",
       "      <td>...</td>\n",
       "      <td>1010416.0</td>\n",
       "      <td>1.010416e+06</td>\n",
       "      <td>1.010416e+06</td>\n",
       "      <td>1010416.0</td>\n",
       "      <td>1.010416e+06</td>\n",
       "      <td>1.010416e+06</td>\n",
       "      <td>1.010416e+06</td>\n",
       "      <td>1.010416e+06</td>\n",
       "      <td>1.010416e+06</td>\n",
       "      <td>1.010416e+06</td>\n",
       "    </tr>\n",
       "    <tr>\n",
       "      <th>mean</th>\n",
       "      <td>2.016839e+03</td>\n",
       "      <td>1.937602e+00</td>\n",
       "      <td>4.587088e+00</td>\n",
       "      <td>1.563237e+01</td>\n",
       "      <td>3.992616e+00</td>\n",
       "      <td>2.016887e+07</td>\n",
       "      <td>1.987554e+04</td>\n",
       "      <td>2.135821e+03</td>\n",
       "      <td>1.273245e+04</td>\n",
       "      <td>1.275999e+04</td>\n",
       "      <td>...</td>\n",
       "      <td>0.0</td>\n",
       "      <td>1.473402e+02</td>\n",
       "      <td>1.214187e+02</td>\n",
       "      <td>1.0</td>\n",
       "      <td>8.706887e+02</td>\n",
       "      <td>3.951885e+00</td>\n",
       "      <td>6.275832e+00</td>\n",
       "      <td>2.393560e+03</td>\n",
       "      <td>8.456471e+00</td>\n",
       "      <td>1.012415e+01</td>\n",
       "    </tr>\n",
       "    <tr>\n",
       "      <th>std</th>\n",
       "      <td>3.673366e-01</td>\n",
       "      <td>1.011554e+00</td>\n",
       "      <td>3.228034e+00</td>\n",
       "      <td>8.667526e+00</td>\n",
       "      <td>2.002875e+00</td>\n",
       "      <td>3.365648e+03</td>\n",
       "      <td>4.111022e+02</td>\n",
       "      <td>1.747295e+03</td>\n",
       "      <td>1.523538e+03</td>\n",
       "      <td>1.523443e+03</td>\n",
       "      <td>...</td>\n",
       "      <td>0.0</td>\n",
       "      <td>7.993011e+01</td>\n",
       "      <td>7.696455e+01</td>\n",
       "      <td>0.0</td>\n",
       "      <td>6.242661e+02</td>\n",
       "      <td>2.455372e+00</td>\n",
       "      <td>4.140829e+00</td>\n",
       "      <td>1.309178e+03</td>\n",
       "      <td>4.778709e+00</td>\n",
       "      <td>4.950402e+00</td>\n",
       "    </tr>\n",
       "    <tr>\n",
       "      <th>min</th>\n",
       "      <td>2.016000e+03</td>\n",
       "      <td>1.000000e+00</td>\n",
       "      <td>1.000000e+00</td>\n",
       "      <td>1.000000e+00</td>\n",
       "      <td>1.000000e+00</td>\n",
       "      <td>2.016110e+07</td>\n",
       "      <td>1.939300e+04</td>\n",
       "      <td>1.000000e+00</td>\n",
       "      <td>1.013500e+04</td>\n",
       "      <td>1.013500e+04</td>\n",
       "      <td>...</td>\n",
       "      <td>0.0</td>\n",
       "      <td>1.500000e+01</td>\n",
       "      <td>7.000000e+00</td>\n",
       "      <td>1.0</td>\n",
       "      <td>3.100000e+01</td>\n",
       "      <td>1.000000e+00</td>\n",
       "      <td>0.000000e+00</td>\n",
       "      <td>0.000000e+00</td>\n",
       "      <td>0.000000e+00</td>\n",
       "      <td>0.000000e+00</td>\n",
       "    </tr>\n",
       "    <tr>\n",
       "      <th>25%</th>\n",
       "      <td>2.017000e+03</td>\n",
       "      <td>1.000000e+00</td>\n",
       "      <td>3.000000e+00</td>\n",
       "      <td>8.000000e+00</td>\n",
       "      <td>2.000000e+00</td>\n",
       "      <td>2.017013e+07</td>\n",
       "      <td>1.939300e+04</td>\n",
       "      <td>7.240000e+02</td>\n",
       "      <td>1.129200e+04</td>\n",
       "      <td>1.129200e+04</td>\n",
       "      <td>...</td>\n",
       "      <td>0.0</td>\n",
       "      <td>8.700000e+01</td>\n",
       "      <td>6.300000e+01</td>\n",
       "      <td>1.0</td>\n",
       "      <td>3.970000e+02</td>\n",
       "      <td>2.000000e+00</td>\n",
       "      <td>3.000000e+00</td>\n",
       "      <td>1.294000e+03</td>\n",
       "      <td>4.000000e+00</td>\n",
       "      <td>6.000000e+00</td>\n",
       "    </tr>\n",
       "    <tr>\n",
       "      <th>50%</th>\n",
       "      <td>2.017000e+03</td>\n",
       "      <td>2.000000e+00</td>\n",
       "      <td>4.000000e+00</td>\n",
       "      <td>1.600000e+01</td>\n",
       "      <td>4.000000e+00</td>\n",
       "      <td>2.017033e+07</td>\n",
       "      <td>1.980500e+04</td>\n",
       "      <td>1.636000e+03</td>\n",
       "      <td>1.289200e+04</td>\n",
       "      <td>1.289200e+04</td>\n",
       "      <td>...</td>\n",
       "      <td>0.0</td>\n",
       "      <td>1.290000e+02</td>\n",
       "      <td>1.030000e+02</td>\n",
       "      <td>1.0</td>\n",
       "      <td>7.180000e+02</td>\n",
       "      <td>3.000000e+00</td>\n",
       "      <td>8.000000e+00</td>\n",
       "      <td>2.408000e+03</td>\n",
       "      <td>9.000000e+00</td>\n",
       "      <td>1.100000e+01</td>\n",
       "    </tr>\n",
       "    <tr>\n",
       "      <th>75%</th>\n",
       "      <td>2.017000e+03</td>\n",
       "      <td>2.000000e+00</td>\n",
       "      <td>4.000000e+00</td>\n",
       "      <td>2.300000e+01</td>\n",
       "      <td>6.000000e+00</td>\n",
       "      <td>2.017041e+07</td>\n",
       "      <td>2.030400e+04</td>\n",
       "      <td>3.097000e+03</td>\n",
       "      <td>1.405700e+04</td>\n",
       "      <td>1.410000e+04</td>\n",
       "      <td>...</td>\n",
       "      <td>0.0</td>\n",
       "      <td>1.820000e+02</td>\n",
       "      <td>1.530000e+02</td>\n",
       "      <td>1.0</td>\n",
       "      <td>1.120000e+03</td>\n",
       "      <td>5.000000e+00</td>\n",
       "      <td>1.100000e+01</td>\n",
       "      <td>3.558000e+03</td>\n",
       "      <td>1.200000e+01</td>\n",
       "      <td>1.400000e+01</td>\n",
       "    </tr>\n",
       "    <tr>\n",
       "      <th>max</th>\n",
       "      <td>2.017000e+03</td>\n",
       "      <td>4.000000e+00</td>\n",
       "      <td>1.200000e+01</td>\n",
       "      <td>3.100000e+01</td>\n",
       "      <td>7.000000e+00</td>\n",
       "      <td>2.017043e+07</td>\n",
       "      <td>2.117100e+04</td>\n",
       "      <td>7.439000e+03</td>\n",
       "      <td>1.621800e+04</td>\n",
       "      <td>1.621800e+04</td>\n",
       "      <td>...</td>\n",
       "      <td>0.0</td>\n",
       "      <td>7.840000e+02</td>\n",
       "      <td>7.230000e+02</td>\n",
       "      <td>1.0</td>\n",
       "      <td>4.983000e+03</td>\n",
       "      <td>1.100000e+01</td>\n",
       "      <td>1.100000e+01</td>\n",
       "      <td>4.570000e+03</td>\n",
       "      <td>1.800000e+01</td>\n",
       "      <td>1.800000e+01</td>\n",
       "    </tr>\n",
       "  </tbody>\n",
       "</table>\n",
       "<p>8 rows × 28 columns</p>\n",
       "</div>"
      ],
      "text/plain": [
       "               Year       Quarter         Month    DayofMonth     DayOfWeek  \\\n",
       "count  1.010416e+06  1.010416e+06  1.010416e+06  1.010416e+06  1.010416e+06   \n",
       "mean   2.016839e+03  1.937602e+00  4.587088e+00  1.563237e+01  3.992616e+00   \n",
       "std    3.673366e-01  1.011554e+00  3.228034e+00  8.667526e+00  2.002875e+00   \n",
       "min    2.016000e+03  1.000000e+00  1.000000e+00  1.000000e+00  1.000000e+00   \n",
       "25%    2.017000e+03  1.000000e+00  3.000000e+00  8.000000e+00  2.000000e+00   \n",
       "50%    2.017000e+03  2.000000e+00  4.000000e+00  1.600000e+01  4.000000e+00   \n",
       "75%    2.017000e+03  2.000000e+00  4.000000e+00  2.300000e+01  6.000000e+00   \n",
       "max    2.017000e+03  4.000000e+00  1.200000e+01  3.100000e+01  7.000000e+00   \n",
       "\n",
       "         FlightDate     AirlineID     FlightNum  OriginAirportID  \\\n",
       "count  1.010416e+06  1.010416e+06  1.010416e+06     1.010416e+06   \n",
       "mean   2.016887e+07  1.987554e+04  2.135821e+03     1.273245e+04   \n",
       "std    3.365648e+03  4.111022e+02  1.747295e+03     1.523538e+03   \n",
       "min    2.016110e+07  1.939300e+04  1.000000e+00     1.013500e+04   \n",
       "25%    2.017013e+07  1.939300e+04  7.240000e+02     1.129200e+04   \n",
       "50%    2.017033e+07  1.980500e+04  1.636000e+03     1.289200e+04   \n",
       "75%    2.017041e+07  2.030400e+04  3.097000e+03     1.405700e+04   \n",
       "max    2.017043e+07  2.117100e+04  7.439000e+03     1.621800e+04   \n",
       "\n",
       "       DestAirportID      ...        Diverted  ActualElapsedTime  \\\n",
       "count   1.010416e+06      ...       1010416.0       1.010416e+06   \n",
       "mean    1.275999e+04      ...             0.0       1.473402e+02   \n",
       "std     1.523443e+03      ...             0.0       7.993011e+01   \n",
       "min     1.013500e+04      ...             0.0       1.500000e+01   \n",
       "25%     1.129200e+04      ...             0.0       8.700000e+01   \n",
       "50%     1.289200e+04      ...             0.0       1.290000e+02   \n",
       "75%     1.410000e+04      ...             0.0       1.820000e+02   \n",
       "max     1.621800e+04      ...             0.0       7.840000e+02   \n",
       "\n",
       "            AirTime    Flights      Distance  DistanceGroup  Unique_Carrier  \\\n",
       "count  1.010416e+06  1010416.0  1.010416e+06   1.010416e+06    1.010416e+06   \n",
       "mean   1.214187e+02        1.0  8.706887e+02   3.951885e+00    6.275832e+00   \n",
       "std    7.696455e+01        0.0  6.242661e+02   2.455372e+00    4.140829e+00   \n",
       "min    7.000000e+00        1.0  3.100000e+01   1.000000e+00    0.000000e+00   \n",
       "25%    6.300000e+01        1.0  3.970000e+02   2.000000e+00    3.000000e+00   \n",
       "50%    1.030000e+02        1.0  7.180000e+02   3.000000e+00    8.000000e+00   \n",
       "75%    1.530000e+02        1.0  1.120000e+03   5.000000e+00    1.100000e+01   \n",
       "max    7.230000e+02        1.0  4.983000e+03   1.100000e+01    1.100000e+01   \n",
       "\n",
       "        Tail_Number   DepTime_Blk   ArrTime_Blk  \n",
       "count  1.010416e+06  1.010416e+06  1.010416e+06  \n",
       "mean   2.393560e+03  8.456471e+00  1.012415e+01  \n",
       "std    1.309178e+03  4.778709e+00  4.950402e+00  \n",
       "min    0.000000e+00  0.000000e+00  0.000000e+00  \n",
       "25%    1.294000e+03  4.000000e+00  6.000000e+00  \n",
       "50%    2.408000e+03  9.000000e+00  1.100000e+01  \n",
       "75%    3.558000e+03  1.200000e+01  1.400000e+01  \n",
       "max    4.570000e+03  1.800000e+01  1.800000e+01  \n",
       "\n",
       "[8 rows x 28 columns]"
      ]
     },
     "execution_count": 26,
     "metadata": {},
     "output_type": "execute_result"
    }
   ],
   "source": [
    "rfDataPCA = pd.DataFrame(data)\n",
    "#Subsetting based on earlier feature selection of variables (derived from correlation)\n",
    "rfDataPCA.drop(['OriginAirportSeqID','OriginCityMarketID', 'OriginStateFips', 'OriginWac', \n",
    "                     'DestAirportSeqID', 'DestCityMarketID', 'DestStateFips', 'DestWac',\n",
    "                     'CRSDepTime', 'CRSElapsedTime', 'CRSArrTime','Carrier_Name', \n",
    "                     'Origin_Point', 'Origin_CityName', 'Origin_State', 'OriginState_Name', \n",
    "                     'Destination', 'Dest_CityName', 'Dest_State', 'Dest_StateName'], axis=1, inplace=True)\n",
    "print('Dimension reduced to:')\n",
    "print(len(rfDataPCA.columns))\n",
    "list(rfDataPCA.columns)\n",
    "rfDataPCA.describe()"
   ]
  },
  {
   "cell_type": "code",
   "execution_count": 27,
   "metadata": {
    "collapsed": false,
    "scrolled": true
   },
   "outputs": [
    {
     "data": {
      "text/plain": [
       "[('Year', 'FlightDate'),\n",
       " ('Quarter', 'Month'),\n",
       " ('OriginAirportID', 'OriginAirportSeqID'),\n",
       " ('OriginAirportID', 'Origin_Point'),\n",
       " ('OriginAirportID', 'Origin_CityName'),\n",
       " ('OriginAirportSeqID', 'Origin_Point'),\n",
       " ('OriginAirportSeqID', 'Origin_CityName'),\n",
       " ('OriginStateFips', 'Origin_State'),\n",
       " ('OriginStateFips', 'OriginState_Name'),\n",
       " ('DestAirportID', 'DestAirportSeqID'),\n",
       " ('DestAirportID', 'Destination'),\n",
       " ('DestAirportID', 'Dest_CityName'),\n",
       " ('DestAirportSeqID', 'Destination'),\n",
       " ('DestAirportSeqID', 'Dest_CityName'),\n",
       " ('DestStateFips', 'Dest_State'),\n",
       " ('DestStateFips', 'Dest_StateName'),\n",
       " ('CRSDepTime', 'DepTime'),\n",
       " ('CRSDepTime', 'WheelsOff'),\n",
       " ('CRSDepTime', 'DepTime_Blk'),\n",
       " ('CRSDepTime', 'ArrTime_Blk'),\n",
       " ('DepTime', 'WheelsOff'),\n",
       " ('DepTime', 'DepTime_Blk'),\n",
       " ('DepTime', 'ArrTime_Blk'),\n",
       " ('WheelsOff', 'DepTime_Blk'),\n",
       " ('WheelsOff', 'ArrTime_Blk'),\n",
       " ('WheelsOn', 'CRSArrTime'),\n",
       " ('WheelsOn', 'ArrTime'),\n",
       " ('WheelsOn', 'ArrTime_Blk'),\n",
       " ('CRSArrTime', 'ArrTime'),\n",
       " ('CRSArrTime', 'ArrTime_Blk'),\n",
       " ('ArrTime', 'ArrTime_Blk'),\n",
       " ('CRSElapsedTime', 'ActualElapsedTime'),\n",
       " ('CRSElapsedTime', 'AirTime'),\n",
       " ('CRSElapsedTime', 'Distance'),\n",
       " ('CRSElapsedTime', 'DistanceGroup'),\n",
       " ('ActualElapsedTime', 'AirTime'),\n",
       " ('ActualElapsedTime', 'Distance'),\n",
       " ('ActualElapsedTime', 'DistanceGroup'),\n",
       " ('AirTime', 'Distance'),\n",
       " ('AirTime', 'DistanceGroup'),\n",
       " ('Distance', 'DistanceGroup'),\n",
       " ('Unique_Carrier', 'Carrier_Name'),\n",
       " ('Origin_Point', 'Origin_CityName'),\n",
       " ('Origin_State', 'OriginState_Name'),\n",
       " ('Destination', 'Dest_CityName'),\n",
       " ('Dest_State', 'Dest_StateName'),\n",
       " ('DepTime_Blk', 'ArrTime_Blk')]"
      ]
     },
     "execution_count": 27,
     "metadata": {},
     "output_type": "execute_result"
    }
   ],
   "source": [
    "indices = np.where(corr > 0.7)\n",
    "indices = [(corr.columns[x], corr.columns[y]) for x, y in zip(*indices)\n",
    "                                        if x != y and x < y]\n",
    "indices"
   ]
  },
  {
   "cell_type": "code",
   "execution_count": 28,
   "metadata": {
    "collapsed": true
   },
   "outputs": [],
   "source": [
    "rfDataPCA.drop(['FlightDate','DepTime','DepTime_Blk','ActualElapsedTime','AirTime','DistanceGroup','DepTime_Blk'], \n",
    "          axis=1, inplace=True)#Further reduction of multicollinearity for PCA"
   ]
  },
  {
   "cell_type": "code",
   "execution_count": 29,
   "metadata": {
    "collapsed": false
   },
   "outputs": [
    {
     "data": {
      "image/png": "[encoded data removed]",
      "text/plain": [
       "<matplotlib.figure.Figure at 0x1dd04ff9cc0>"
      ]
     },
     "metadata": {},
     "output_type": "display_data"
    }
   ],
   "source": [
    "#Check for collinearity\n",
    "plt.matshow(rfDataPCA.corr())\n",
    "plt.title('Correlation matrix for NON-COLLINEAR data')\n",
    "corr = rfDataPCA.corr()"
   ]
  },
  {
   "cell_type": "markdown",
   "metadata": {},
   "source": [
    "Note: Darker cells indicate high collinearity. It is seen here only between the variable and itself."
   ]
  },
  {
   "cell_type": "code",
   "execution_count": 30,
   "metadata": {
    "collapsed": false,
    "scrolled": true
   },
   "outputs": [
    {
     "data": {
      "text/plain": [
       "[('Quarter', 'Month'),\n",
       " ('WheelsOff', 'ArrTime_Blk'),\n",
       " ('WheelsOn', 'ArrTime'),\n",
       " ('WheelsOn', 'ArrTime_Blk'),\n",
       " ('ArrTime', 'ArrTime_Blk')]"
      ]
     },
     "execution_count": 30,
     "metadata": {},
     "output_type": "execute_result"
    }
   ],
   "source": [
    "indices = np.where(corr > 0.7)\n",
    "indices = [(corr.columns[x], corr.columns[y]) for x, y in zip(*indices)\n",
    "                                        if x != y and x < y]\n",
    "indices"
   ]
  },
  {
   "cell_type": "markdown",
   "metadata": {},
   "source": [
    "###### Data ready for PCA"
   ]
  },
  {
   "cell_type": "code",
   "execution_count": 31,
   "metadata": {
    "collapsed": false
   },
   "outputs": [
    {
     "name": "stdout",
     "output_type": "stream",
     "text": [
      "Dimension reduced to:\n",
      "22\n"
     ]
    },
    {
     "data": {
      "text/html": [
       "<div>\n",
       "<table border=\"1\" class=\"dataframe\">\n",
       "  <thead>\n",
       "    <tr style=\"text-align: right;\">\n",
       "      <th></th>\n",
       "      <th>Year</th>\n",
       "      <th>Quarter</th>\n",
       "      <th>Month</th>\n",
       "      <th>DayofMonth</th>\n",
       "      <th>DayOfWeek</th>\n",
       "      <th>AirlineID</th>\n",
       "      <th>FlightNum</th>\n",
       "      <th>OriginAirportID</th>\n",
       "      <th>DestAirportID</th>\n",
       "      <th>TaxiOut</th>\n",
       "      <th>...</th>\n",
       "      <th>TaxiIn</th>\n",
       "      <th>ArrTime</th>\n",
       "      <th>ArrDel15</th>\n",
       "      <th>Cancelled</th>\n",
       "      <th>Diverted</th>\n",
       "      <th>Flights</th>\n",
       "      <th>Distance</th>\n",
       "      <th>Unique_Carrier</th>\n",
       "      <th>Tail_Number</th>\n",
       "      <th>ArrTime_Blk</th>\n",
       "    </tr>\n",
       "  </thead>\n",
       "  <tbody>\n",
       "    <tr>\n",
       "      <th>count</th>\n",
       "      <td>1.010416e+06</td>\n",
       "      <td>1.010416e+06</td>\n",
       "      <td>1.010416e+06</td>\n",
       "      <td>1.010416e+06</td>\n",
       "      <td>1.010416e+06</td>\n",
       "      <td>1.010416e+06</td>\n",
       "      <td>1.010416e+06</td>\n",
       "      <td>1.010416e+06</td>\n",
       "      <td>1.010416e+06</td>\n",
       "      <td>1.010416e+06</td>\n",
       "      <td>...</td>\n",
       "      <td>1.010416e+06</td>\n",
       "      <td>1.010416e+06</td>\n",
       "      <td>1010416.0</td>\n",
       "      <td>1010416.0</td>\n",
       "      <td>1010416.0</td>\n",
       "      <td>1010416.0</td>\n",
       "      <td>1.010416e+06</td>\n",
       "      <td>1.010416e+06</td>\n",
       "      <td>1.010416e+06</td>\n",
       "      <td>1.010416e+06</td>\n",
       "    </tr>\n",
       "    <tr>\n",
       "      <th>mean</th>\n",
       "      <td>2.016839e+03</td>\n",
       "      <td>1.937602e+00</td>\n",
       "      <td>4.587088e+00</td>\n",
       "      <td>1.563237e+01</td>\n",
       "      <td>3.992616e+00</td>\n",
       "      <td>1.987554e+04</td>\n",
       "      <td>2.135821e+03</td>\n",
       "      <td>1.273245e+04</td>\n",
       "      <td>1.275999e+04</td>\n",
       "      <td>1.796814e+01</td>\n",
       "      <td>...</td>\n",
       "      <td>7.953286e+00</td>\n",
       "      <td>1.503716e+03</td>\n",
       "      <td>0.5</td>\n",
       "      <td>0.0</td>\n",
       "      <td>0.0</td>\n",
       "      <td>1.0</td>\n",
       "      <td>8.706887e+02</td>\n",
       "      <td>6.275832e+00</td>\n",
       "      <td>2.393560e+03</td>\n",
       "      <td>1.012415e+01</td>\n",
       "    </tr>\n",
       "    <tr>\n",
       "      <th>std</th>\n",
       "      <td>3.673366e-01</td>\n",
       "      <td>1.011554e+00</td>\n",
       "      <td>3.228034e+00</td>\n",
       "      <td>8.667526e+00</td>\n",
       "      <td>2.002875e+00</td>\n",
       "      <td>4.111022e+02</td>\n",
       "      <td>1.747295e+03</td>\n",
       "      <td>1.523538e+03</td>\n",
       "      <td>1.523443e+03</td>\n",
       "      <td>1.178475e+01</td>\n",
       "      <td>...</td>\n",
       "      <td>7.335005e+00</td>\n",
       "      <td>5.695250e+02</td>\n",
       "      <td>0.5</td>\n",
       "      <td>0.0</td>\n",
       "      <td>0.0</td>\n",
       "      <td>0.0</td>\n",
       "      <td>6.242661e+02</td>\n",
       "      <td>4.140829e+00</td>\n",
       "      <td>1.309178e+03</td>\n",
       "      <td>4.950402e+00</td>\n",
       "    </tr>\n",
       "    <tr>\n",
       "      <th>min</th>\n",
       "      <td>2.016000e+03</td>\n",
       "      <td>1.000000e+00</td>\n",
       "      <td>1.000000e+00</td>\n",
       "      <td>1.000000e+00</td>\n",
       "      <td>1.000000e+00</td>\n",
       "      <td>1.939300e+04</td>\n",
       "      <td>1.000000e+00</td>\n",
       "      <td>1.013500e+04</td>\n",
       "      <td>1.013500e+04</td>\n",
       "      <td>1.000000e+00</td>\n",
       "      <td>...</td>\n",
       "      <td>1.000000e+00</td>\n",
       "      <td>1.000000e+00</td>\n",
       "      <td>0.0</td>\n",
       "      <td>0.0</td>\n",
       "      <td>0.0</td>\n",
       "      <td>1.0</td>\n",
       "      <td>3.100000e+01</td>\n",
       "      <td>0.000000e+00</td>\n",
       "      <td>0.000000e+00</td>\n",
       "      <td>0.000000e+00</td>\n",
       "    </tr>\n",
       "    <tr>\n",
       "      <th>25%</th>\n",
       "      <td>2.017000e+03</td>\n",
       "      <td>1.000000e+00</td>\n",
       "      <td>3.000000e+00</td>\n",
       "      <td>8.000000e+00</td>\n",
       "      <td>2.000000e+00</td>\n",
       "      <td>1.939300e+04</td>\n",
       "      <td>7.240000e+02</td>\n",
       "      <td>1.129200e+04</td>\n",
       "      <td>1.129200e+04</td>\n",
       "      <td>1.100000e+01</td>\n",
       "      <td>...</td>\n",
       "      <td>4.000000e+00</td>\n",
       "      <td>1.119000e+03</td>\n",
       "      <td>0.0</td>\n",
       "      <td>0.0</td>\n",
       "      <td>0.0</td>\n",
       "      <td>1.0</td>\n",
       "      <td>3.970000e+02</td>\n",
       "      <td>3.000000e+00</td>\n",
       "      <td>1.294000e+03</td>\n",
       "      <td>6.000000e+00</td>\n",
       "    </tr>\n",
       "    <tr>\n",
       "      <th>50%</th>\n",
       "      <td>2.017000e+03</td>\n",
       "      <td>2.000000e+00</td>\n",
       "      <td>4.000000e+00</td>\n",
       "      <td>1.600000e+01</td>\n",
       "      <td>4.000000e+00</td>\n",
       "      <td>1.980500e+04</td>\n",
       "      <td>1.636000e+03</td>\n",
       "      <td>1.289200e+04</td>\n",
       "      <td>1.289200e+04</td>\n",
       "      <td>1.500000e+01</td>\n",
       "      <td>...</td>\n",
       "      <td>6.000000e+00</td>\n",
       "      <td>1.555000e+03</td>\n",
       "      <td>0.5</td>\n",
       "      <td>0.0</td>\n",
       "      <td>0.0</td>\n",
       "      <td>1.0</td>\n",
       "      <td>7.180000e+02</td>\n",
       "      <td>8.000000e+00</td>\n",
       "      <td>2.408000e+03</td>\n",
       "      <td>1.100000e+01</td>\n",
       "    </tr>\n",
       "    <tr>\n",
       "      <th>75%</th>\n",
       "      <td>2.017000e+03</td>\n",
       "      <td>2.000000e+00</td>\n",
       "      <td>4.000000e+00</td>\n",
       "      <td>2.300000e+01</td>\n",
       "      <td>6.000000e+00</td>\n",
       "      <td>2.030400e+04</td>\n",
       "      <td>3.097000e+03</td>\n",
       "      <td>1.405700e+04</td>\n",
       "      <td>1.410000e+04</td>\n",
       "      <td>2.100000e+01</td>\n",
       "      <td>...</td>\n",
       "      <td>9.000000e+00</td>\n",
       "      <td>1.952000e+03</td>\n",
       "      <td>1.0</td>\n",
       "      <td>0.0</td>\n",
       "      <td>0.0</td>\n",
       "      <td>1.0</td>\n",
       "      <td>1.120000e+03</td>\n",
       "      <td>1.100000e+01</td>\n",
       "      <td>3.558000e+03</td>\n",
       "      <td>1.400000e+01</td>\n",
       "    </tr>\n",
       "    <tr>\n",
       "      <th>max</th>\n",
       "      <td>2.017000e+03</td>\n",
       "      <td>4.000000e+00</td>\n",
       "      <td>1.200000e+01</td>\n",
       "      <td>3.100000e+01</td>\n",
       "      <td>7.000000e+00</td>\n",
       "      <td>2.117100e+04</td>\n",
       "      <td>7.439000e+03</td>\n",
       "      <td>1.621800e+04</td>\n",
       "      <td>1.621800e+04</td>\n",
       "      <td>1.790000e+02</td>\n",
       "      <td>...</td>\n",
       "      <td>4.130000e+02</td>\n",
       "      <td>2.400000e+03</td>\n",
       "      <td>1.0</td>\n",
       "      <td>0.0</td>\n",
       "      <td>0.0</td>\n",
       "      <td>1.0</td>\n",
       "      <td>4.983000e+03</td>\n",
       "      <td>1.100000e+01</td>\n",
       "      <td>4.570000e+03</td>\n",
       "      <td>1.800000e+01</td>\n",
       "    </tr>\n",
       "  </tbody>\n",
       "</table>\n",
       "<p>8 rows × 22 columns</p>\n",
       "</div>"
      ],
      "text/plain": [
       "               Year       Quarter         Month    DayofMonth     DayOfWeek  \\\n",
       "count  1.010416e+06  1.010416e+06  1.010416e+06  1.010416e+06  1.010416e+06   \n",
       "mean   2.016839e+03  1.937602e+00  4.587088e+00  1.563237e+01  3.992616e+00   \n",
       "std    3.673366e-01  1.011554e+00  3.228034e+00  8.667526e+00  2.002875e+00   \n",
       "min    2.016000e+03  1.000000e+00  1.000000e+00  1.000000e+00  1.000000e+00   \n",
       "25%    2.017000e+03  1.000000e+00  3.000000e+00  8.000000e+00  2.000000e+00   \n",
       "50%    2.017000e+03  2.000000e+00  4.000000e+00  1.600000e+01  4.000000e+00   \n",
       "75%    2.017000e+03  2.000000e+00  4.000000e+00  2.300000e+01  6.000000e+00   \n",
       "max    2.017000e+03  4.000000e+00  1.200000e+01  3.100000e+01  7.000000e+00   \n",
       "\n",
       "          AirlineID     FlightNum  OriginAirportID  DestAirportID  \\\n",
       "count  1.010416e+06  1.010416e+06     1.010416e+06   1.010416e+06   \n",
       "mean   1.987554e+04  2.135821e+03     1.273245e+04   1.275999e+04   \n",
       "std    4.111022e+02  1.747295e+03     1.523538e+03   1.523443e+03   \n",
       "min    1.939300e+04  1.000000e+00     1.013500e+04   1.013500e+04   \n",
       "25%    1.939300e+04  7.240000e+02     1.129200e+04   1.129200e+04   \n",
       "50%    1.980500e+04  1.636000e+03     1.289200e+04   1.289200e+04   \n",
       "75%    2.030400e+04  3.097000e+03     1.405700e+04   1.410000e+04   \n",
       "max    2.117100e+04  7.439000e+03     1.621800e+04   1.621800e+04   \n",
       "\n",
       "            TaxiOut      ...             TaxiIn       ArrTime   ArrDel15  \\\n",
       "count  1.010416e+06      ...       1.010416e+06  1.010416e+06  1010416.0   \n",
       "mean   1.796814e+01      ...       7.953286e+00  1.503716e+03        0.5   \n",
       "std    1.178475e+01      ...       7.335005e+00  5.695250e+02        0.5   \n",
       "min    1.000000e+00      ...       1.000000e+00  1.000000e+00        0.0   \n",
       "25%    1.100000e+01      ...       4.000000e+00  1.119000e+03        0.0   \n",
       "50%    1.500000e+01      ...       6.000000e+00  1.555000e+03        0.5   \n",
       "75%    2.100000e+01      ...       9.000000e+00  1.952000e+03        1.0   \n",
       "max    1.790000e+02      ...       4.130000e+02  2.400000e+03        1.0   \n",
       "\n",
       "       Cancelled   Diverted    Flights      Distance  Unique_Carrier  \\\n",
       "count  1010416.0  1010416.0  1010416.0  1.010416e+06    1.010416e+06   \n",
       "mean         0.0        0.0        1.0  8.706887e+02    6.275832e+00   \n",
       "std          0.0        0.0        0.0  6.242661e+02    4.140829e+00   \n",
       "min          0.0        0.0        1.0  3.100000e+01    0.000000e+00   \n",
       "25%          0.0        0.0        1.0  3.970000e+02    3.000000e+00   \n",
       "50%          0.0        0.0        1.0  7.180000e+02    8.000000e+00   \n",
       "75%          0.0        0.0        1.0  1.120000e+03    1.100000e+01   \n",
       "max          0.0        0.0        1.0  4.983000e+03    1.100000e+01   \n",
       "\n",
       "        Tail_Number   ArrTime_Blk  \n",
       "count  1.010416e+06  1.010416e+06  \n",
       "mean   2.393560e+03  1.012415e+01  \n",
       "std    1.309178e+03  4.950402e+00  \n",
       "min    0.000000e+00  0.000000e+00  \n",
       "25%    1.294000e+03  6.000000e+00  \n",
       "50%    2.408000e+03  1.100000e+01  \n",
       "75%    3.558000e+03  1.400000e+01  \n",
       "max    4.570000e+03  1.800000e+01  \n",
       "\n",
       "[8 rows x 22 columns]"
      ]
     },
     "execution_count": 31,
     "metadata": {},
     "output_type": "execute_result"
    }
   ],
   "source": [
    "print('Dimension reduced to:')\n",
    "print(len(rfDataPCA.columns))\n",
    "rfDataPCA.describe()"
   ]
  },
  {
   "cell_type": "markdown",
   "metadata": {},
   "source": [
    "### Dimension reduction with PCA"
   ]
  },
  {
   "cell_type": "markdown",
   "metadata": {},
   "source": [
    "PCA is done on three variants of the dataset to identify which one needs to be used for modeling:\n",
    "- PCA 1: Dataset with Multi-Collinear variables: Highly collinear variables have amplified contribution in PCA\n",
    "- PCA 2: Dataset with Redundant variables removed (i.e. repeated ID, dep time, arr time etc.)\n",
    "- PCA 3: Dataset without any Non-Collinear variables\n",
    "\n",
    "This was a last minute approach to check if performance would be better upon reducing dimension with PCA. My initial thought was that PCA would be better with non-collinear variables and this would give better model performance.\n",
    "\n",
    "However, I saw severe performance deterioration of >10% with PCs derived from non-collinear dataset. This was because the first two components could almost fully explain the variance in target variable. But in the second and third cases,around 8PCs were needed to fully explain the variance while the scree plot was giving an intuition of choosing 3 or 4 components.\n",
    "\n",
    "Due to limitation in training time, results are demonstrated only for model creation with PCs derived from multi-collinear data."
   ]
  },
  {
   "cell_type": "markdown",
   "metadata": {},
   "source": [
    "###### PCA 1: On HIGHLY MULTI-COLLINEAR data"
   ]
  },
  {
   "cell_type": "code",
   "execution_count": 32,
   "metadata": {
    "collapsed": false
   },
   "outputs": [
    {
     "name": "stdout",
     "output_type": "stream",
     "text": [
      "Dimension reduced to:\n",
      "47\n"
     ]
    }
   ],
   "source": [
    "#Data set up as predictors and target\n",
    "dataOriginal = pd.DataFrame(data)\n",
    "Delay_YesNo = dataOriginal['ArrDel15']\n",
    "dataOriginal.drop(['ArrDel15'], axis=1, inplace=True)#Removing target variable\n",
    "print('Dimension reduced to:')\n",
    "print(len(dataOriginal.columns))"
   ]
  },
  {
   "cell_type": "code",
   "execution_count": 33,
   "metadata": {
    "collapsed": false
   },
   "outputs": [
    {
     "name": "stdout",
     "output_type": "stream",
     "text": [
      "[  5.11987911e-01   4.87574259e-01   2.44119012e-04   6.66844725e-05\n",
      "   3.68240606e-05   2.63814801e-05   2.25475192e-05   2.03355382e-05]\n"
     ]
    },
    {
     "data": {
      "text/plain": [
       "array([ 51.2 ,  99.96,  99.98,  99.99,  99.99,  99.99,  99.99,  99.99])"
      ]
     },
     "execution_count": 33,
     "metadata": {},
     "output_type": "execute_result"
    }
   ],
   "source": [
    "pca = PCA(n_components=8)\n",
    "dataOriginal_reduced = pca.fit_transform(dataOriginal)\n",
    "print(pca.explained_variance_ratio_)\n",
    "np.cumsum(np.round(pca.explained_variance_ratio_, decimals=4)*100)"
   ]
  },
  {
   "cell_type": "code",
   "execution_count": 34,
   "metadata": {
    "collapsed": false
   },
   "outputs": [
    {
     "data": {
      "text/plain": [
       "<matplotlib.text.Text at 0x1dd058de828>"
      ]
     },
     "execution_count": 34,
     "metadata": {},
     "output_type": "execute_result"
    },
    {
     "data": {
      "image/png": "[encoded data removed]",
      "text/plain": [
       "<matplotlib.figure.Figure at 0x1dd05876be0>"
      ]
     },
     "metadata": {},
     "output_type": "display_data"
    }
   ],
   "source": [
    "plt.figure(1, figsize=(20, 5))\n",
    "plt.plot(pca.explained_variance_, linewidth=3)\n",
    "plt.axis('tight')\n",
    "plt.title('Scree plot for PCA with COLLINEAR data')\n",
    "plt.xlabel('No. of principal components')\n",
    "plt.ylabel('Explained variance')"
   ]
  },
  {
   "cell_type": "markdown",
   "metadata": {},
   "source": [
    "Note: Elbow is used to choose the number of principal components (Here, #PCs chosen = 2)"
   ]
  },
  {
   "cell_type": "markdown",
   "metadata": {},
   "source": [
    "###### PCA 2: On PARTIALLY MULTI-COLLINEAR data"
   ]
  },
  {
   "cell_type": "code",
   "execution_count": 35,
   "metadata": {
    "collapsed": false
   },
   "outputs": [
    {
     "name": "stdout",
     "output_type": "stream",
     "text": [
      "Dimension reduced to:\n",
      "27\n"
     ]
    }
   ],
   "source": [
    "#Data set up as predictors and target\n",
    "dataPartialyCollinear = pd.DataFrame(rfDataOriginal)\n",
    "print('Dimension reduced to:')\n",
    "print(len(dataPartialyCollinear.columns))"
   ]
  },
  {
   "cell_type": "code",
   "execution_count": 36,
   "metadata": {
    "collapsed": false
   },
   "outputs": [
    {
     "name": "stdout",
     "output_type": "stream",
     "text": [
      "[ 0.50466662  0.13762559  0.10694976  0.10082663  0.07542724  0.03905476\n",
      "  0.01613043  0.01096354]\n"
     ]
    },
    {
     "data": {
      "text/plain": [
       "array([ 50.47,  64.23,  74.92,  85.  ,  92.54,  96.45,  98.06,  99.16])"
      ]
     },
     "execution_count": 36,
     "metadata": {},
     "output_type": "execute_result"
    }
   ],
   "source": [
    "pca = PCA(n_components=8)\n",
    "dataPartialyCollinear_reduced = pca.fit_transform(dataPartialyCollinear)\n",
    "print(pca.explained_variance_ratio_)\n",
    "np.cumsum(np.round(pca.explained_variance_ratio_, decimals=4)*100)"
   ]
  },
  {
   "cell_type": "code",
   "execution_count": 37,
   "metadata": {
    "collapsed": false
   },
   "outputs": [
    {
     "data": {
      "text/plain": [
       "<matplotlib.text.Text at 0x1dd0591fc88>"
      ]
     },
     "execution_count": 37,
     "metadata": {},
     "output_type": "execute_result"
    },
    {
     "data": {
      "image/png": "[encoded data removed]",
      "text/plain": [
       "<matplotlib.figure.Figure at 0x1dd0592e908>"
      ]
     },
     "metadata": {},
     "output_type": "display_data"
    }
   ],
   "source": [
    "plt.figure(1, figsize=(20, 5))\n",
    "plt.plot(pca.explained_variance_, linewidth=3)\n",
    "plt.axis('tight')\n",
    "plt.title('Scree plot for PCA with FEATURE SELECTED data')\n",
    "plt.xlabel('No. of principal components')\n",
    "plt.ylabel('Explained variance')"
   ]
  },
  {
   "cell_type": "markdown",
   "metadata": {},
   "source": [
    "Note: Elbow is used to choose the number of principal components (Here, #PCs chosen = 5)"
   ]
  },
  {
   "cell_type": "markdown",
   "metadata": {},
   "source": [
    "###### PCA 3: On LOW MULTI-COLLINEAR data"
   ]
  },
  {
   "cell_type": "code",
   "execution_count": 38,
   "metadata": {
    "collapsed": false
   },
   "outputs": [
    {
     "name": "stdout",
     "output_type": "stream",
     "text": [
      "Dimension reduced to:\n",
      "21\n"
     ]
    }
   ],
   "source": [
    "#Data set up as predictors and target\n",
    "dataNotCollinear = pd.DataFrame(rfDataPCA)\n",
    "Delay_YesNo = dataNotCollinear['ArrDel15']\n",
    "dataNotCollinear.drop(['ArrDel15'], axis=1, inplace=True)#Removing target variable\n",
    "print('Dimension reduced to:')\n",
    "print(len(dataNotCollinear.columns))"
   ]
  },
  {
   "cell_type": "code",
   "execution_count": 39,
   "metadata": {
    "collapsed": false
   },
   "outputs": [
    {
     "name": "stdout",
     "output_type": "stream",
     "text": [
      "[ 0.28453029  0.22109532  0.20833551  0.15602111  0.06744191  0.03238139\n",
      "  0.01505199  0.0138043 ]\n"
     ]
    },
    {
     "data": {
      "text/plain": [
       "array([ 28.45,  50.56,  71.39,  86.99,  93.73,  96.97,  98.48,  99.86])"
      ]
     },
     "execution_count": 39,
     "metadata": {},
     "output_type": "execute_result"
    }
   ],
   "source": [
    "pca = PCA(n_components=8)\n",
    "dataNotCollinear_reduced = pca.fit_transform(dataNotCollinear)\n",
    "print(pca.explained_variance_ratio_)\n",
    "np.cumsum(np.round(pca.explained_variance_ratio_, decimals=4)*100)"
   ]
  },
  {
   "cell_type": "code",
   "execution_count": 40,
   "metadata": {
    "collapsed": false
   },
   "outputs": [
    {
     "data": {
      "text/plain": [
       "<matplotlib.text.Text at 0x1dd058aec88>"
      ]
     },
     "execution_count": 40,
     "metadata": {},
     "output_type": "execute_result"
    },
    {
     "data": {
      "image/png": "[encoded data removed]",
      "text/plain": [
       "<matplotlib.figure.Figure at 0x1dd059329e8>"
      ]
     },
     "metadata": {},
     "output_type": "display_data"
    }
   ],
   "source": [
    "plt.figure(1, figsize=(20, 5))\n",
    "plt.plot(pca.explained_variance_, linewidth=3)\n",
    "plt.axis('tight')\n",
    "plt.title('Scree plot for PCA with FEATURE RE-ENGINEERED data')\n",
    "plt.xlabel('No. of principal components')\n",
    "plt.ylabel('Explained variance')"
   ]
  },
  {
   "cell_type": "markdown",
   "metadata": {},
   "source": [
    "Note: Elbow is used to choose the number of principal components (Here, #PCs chosen = 4)"
   ]
  },
  {
   "cell_type": "code",
   "execution_count": 41,
   "metadata": {
    "collapsed": false
   },
   "outputs": [
    {
     "name": "stdout",
     "output_type": "stream",
     "text": [
      "[ 0.28453029  0.22109532  0.20833551  0.15602111]\n",
      "Cumulative explained variance:\n"
     ]
    },
    {
     "data": {
      "text/plain": [
       "array([ 28.45,  50.56,  71.39,  86.99])"
      ]
     },
     "execution_count": 41,
     "metadata": {},
     "output_type": "execute_result"
    }
   ],
   "source": [
    "#Delay_YesNo = data['ArrDel15']\n",
    "#data.drop(['ArrDel15'], axis=1, inplace=True)#Removing target variable\n",
    "#print('Dimension reduced to:')\n",
    "#print(len(data.columns))\n",
    "#data.describe()\n",
    "pca = PCA(n_components=4)\n",
    "dataNotCollinear_reduced = pca.fit_transform(dataNotCollinear)\n",
    "print(pca.explained_variance_ratio_)\n",
    "print('Cumulative explained variance:')\n",
    "np.cumsum(np.round(pca.explained_variance_ratio_, decimals=4)*100)"
   ]
  },
  {
   "cell_type": "markdown",
   "metadata": {},
   "source": [
    "### Model building with dimension reduced data"
   ]
  },
  {
   "cell_type": "markdown",
   "metadata": {},
   "source": [
    "###### Train/test split\n",
    "- Train:Test split = 80:20"
   ]
  },
  {
   "cell_type": "code",
   "execution_count": 42,
   "metadata": {
    "collapsed": false
   },
   "outputs": [],
   "source": [
    "x_train, x_test, y_train, y_test = train_test_split(dataNotCollinear_reduced, Delay_YesNo, test_size=0.2, random_state=42)"
   ]
  },
  {
   "cell_type": "markdown",
   "metadata": {},
   "source": [
    "###### Grid search\n",
    "- Grid search is not performed for all the desired parameter combinations and values due to computational time"
   ]
  },
  {
   "cell_type": "code",
   "execution_count": 43,
   "metadata": {
    "collapsed": false
   },
   "outputs": [
    {
     "name": "stdout",
     "output_type": "stream",
     "text": [
      "Random forest Grid Search with dimension reduced data took [ 0:13:19.261304 ] seconds.\n"
     ]
    }
   ],
   "source": [
    "startTimeGS = datetime.now()\n",
    "from sklearn.grid_search import GridSearchCV\n",
    "rf = RandomForestClassifier()\n",
    "param_grid = {\n",
    "                 'n_estimators': [5, 10],\n",
    "#                 'min_samples_split': [2, 4],\n",
    "#                 'min_samples_leaf': [2, 4],\n",
    "#                 'max_features': [sqrt', 'log2'],\n",
    "                 \"criterion\" : [\"gini\", \"entropy\"]\n",
    "             }\n",
    "grid_rf = GridSearchCV(rf, param_grid, cv=5)\n",
    "grid_rf.fit(x_train, y_train)\n",
    "bestModel = grid_rf.best_estimator_\n",
    "bestParameters = grid_rf.best_params_\n",
    "gridScores = grid_rf.grid_scores_\n",
    "print('Random forest Grid Search with dimension reduced data took [', datetime.now() - startTimeGS, '] seconds.')"
   ]
  },
  {
   "cell_type": "code",
   "execution_count": 44,
   "metadata": {
    "collapsed": false
   },
   "outputs": [
    {
     "name": "stdout",
     "output_type": "stream",
     "text": [
      "RandomForestClassifier(bootstrap=True, class_weight=None, criterion='entropy',\n",
      "            max_depth=None, max_features='auto', max_leaf_nodes=None,\n",
      "            min_impurity_split=1e-07, min_samples_leaf=1,\n",
      "            min_samples_split=2, min_weight_fraction_leaf=0.0,\n",
      "            n_estimators=10, n_jobs=1, oob_score=False, random_state=None,\n",
      "            verbose=0, warm_start=False)\n",
      "{'criterion': 'entropy', 'n_estimators': 10}\n"
     ]
    },
    {
     "data": {
      "text/plain": [
       "[mean: 0.74855, std: 0.00277, params: {'criterion': 'gini', 'n_estimators': 5},\n",
       " mean: 0.75957, std: 0.00110, params: {'criterion': 'gini', 'n_estimators': 10},\n",
       " mean: 0.74910, std: 0.00270, params: {'criterion': 'entropy', 'n_estimators': 5},\n",
       " mean: 0.76257, std: 0.00103, params: {'criterion': 'entropy', 'n_estimators': 10}]"
      ]
     },
     "execution_count": 44,
     "metadata": {},
     "output_type": "execute_result"
    }
   ],
   "source": [
    "print(bestModel)\n",
    "print(bestParameters)\n",
    "gridScores"
   ]
  },
  {
   "cell_type": "markdown",
   "metadata": {},
   "source": [
    "###### Model selection\n",
    "- Best model and parameters from above are used to train the final model on entire training set\n",
    "- 5- fold Cross validation is performed to find the overall error"
   ]
  },
  {
   "cell_type": "code",
   "execution_count": 45,
   "metadata": {
    "collapsed": false
   },
   "outputs": [
    {
     "name": "stdout",
     "output_type": "stream",
     "text": [
      "Mean cross validation score is: 0.760478367574\n",
      "Random forest training and testing with PCs took [ 0:06:22.947505 ] seconds.\n"
     ]
    }
   ],
   "source": [
    "startTimeRF = datetime.now()\n",
    "rf = RandomForestClassifier(n_estimators = bestParameters.get('n_estimators'), \n",
    "#                            min_samples_split=bestParameters.get('min_samples_split'),\n",
    "#                           min_samples_leaf = bestParameters.get('min_samples_leaf'),\n",
    "#                           max_features = bestParameters.get('max_features'),\n",
    "                           criterion = bestParameters.get('criterion'))\n",
    "cv = cross_validation.KFold(len(x_train), n_folds=5, shuffle=True, random_state=2)\n",
    "cvScores = cross_val_score(rf, x_train, y_train, cv=cv)\n",
    "print ('Mean cross validation score is: ' + str(np.mean(cvScores)))\n",
    "rf.fit(x_train, y_train)\n",
    "print('Random forest training and testing with PCs took [', datetime.now() - startTimeRF, '] seconds.')"
   ]
  },
  {
   "cell_type": "markdown",
   "metadata": {},
   "source": [
    "###### Performance evaluation\n",
    "- Prediction is done on the hold out test set to evaluate performance\n",
    "- Confusion matrix, Accuracy and Recall are computed\n",
    "- ROC curve is also plotted to pictorically depict 'Area under curve (AUC)' as 'Accuracy' "
   ]
  },
  {
   "cell_type": "code",
   "execution_count": 46,
   "metadata": {
    "collapsed": false
   },
   "outputs": [
    {
     "name": "stdout",
     "output_type": "stream",
     "text": [
      "Accuracy: 77.96%\n",
      "Recall: 72.12%\n",
      "Confusion matrix:\n",
      "[[84886 16451]\n",
      " [28092 72655]]\n",
      "Area under the ROC curve: 0.220588303785\n"
     ]
    },
    {
     "data": {
      "image/png": "[encoded data removed]",
      "text/plain": [
       "<matplotlib.figure.Figure at 0x1dd059129b0>"
      ]
     },
     "metadata": {},
     "output_type": "display_data"
    }
   ],
   "source": [
    "y_rf_pred = rf.predict(x_test)\n",
    "\n",
    "labels = [0, 1]\n",
    "cm = confusion_matrix(y_test, y_rf_pred,labels)\n",
    "\n",
    "print('Accuracy: ' + str(np.round(100*float(cm[0][0]+cm[1][1])/float((cm[0][0]+cm[1][1] + cm[1][0] + cm[0][1])),2))+'%')\n",
    "print('Recall: ' + str(np.round(100*float((cm[1][1]))/float((cm[1][0]+cm[1][1])),2))+'%')\n",
    "print('Confusion matrix:')\n",
    "print(cm)\n",
    "\n",
    "fpr, tpr, _ = roc_curve(y_test, y_rf_pred)\n",
    "auc = np.trapz(fpr,tpr)\n",
    "print('Area under the ROC curve: ' + str(auc))\n",
    "\n",
    "fig = plt.figure(figsize=(20, 5))\n",
    "\n",
    "plt.subplot2grid((2, 2), (1, 0), colspan=1)\n",
    "#plt.subplot(1,2,1)\n",
    "plt.plot(fpr,tpr,color='green')\n",
    "plt.xlabel('False positive rate (FPR)')\n",
    "plt.ylabel('True positive rate (TPR)')\n",
    "plt.title('Receiver operating characteristic (ROC)')\n",
    "\n",
    "ax1 = plt.subplot2grid((2, 2), (1, 1))\n",
    "#ax = fig.add_subplot(122)\n",
    "cax = ax1.matshow(cm)\n",
    "plt.title('Confusion matrix for Random Forest classifier with PCs')\n",
    "fig.colorbar(cax)\n",
    "ax1.set_xticklabels([''] + labels)\n",
    "ax1.set_yticklabels([''] + labels)\n",
    "plt.xlabel('Predicted')\n",
    "plt.ylabel('True')\n",
    "plt.show()"
   ]
  },
  {
   "cell_type": "markdown",
   "metadata": {},
   "source": [
    "### Inferences:\n",
    "- Random forest on PCs had poorer performance by around 10-15%.\n",
    "- It is inferred that dimension reduction with PCA is a bad idea for Random forest as it is already a modeling method that inherently handles variance in data through bagging, random splitting and voting.\n",
    "- It is best to give all the parameters in the original form.\n",
    "    "
   ]
  },
  {
   "cell_type": "markdown",
   "metadata": {},
   "source": [
    "### Future Work:\n",
    "- As performance was observed to be improving with more data, it is strongly suggested to train on more data which is easily available from DOT website.\n",
    "- This will improve Recall and give better prediction for 'Delayed' flights which is the problem in hand.\n",
    "- It is also recommended that an initial coarser search followed by finer grid search can help in identifying optimal model parameters that can enable prediction with higher performance.\n",
    "- Sampling of data to avoid class imbalance resulted in discarding a lot of data. I am not much concerned about this due to availability of huge amounts of data in DOT website. But, this may need to be addressed elsewhere by exploring imputation. In this problem, regression imputation is suggested as mean and zero imputation did not provide good results.\n",
    "- Feature transformation could have been explored by deriving new features from existing data. Examples can be Airport delay, Airline delay etc from taxi duration, wheels on, wheels off etc. This would have provided much more intuitive analysis results.\n",
    "- Lastly and more importantly, grid search with more trees in Random Forest is essential and is highly likely to give improved results."
   ]
  },
  {
   "cell_type": "markdown",
   "metadata": {},
   "source": [
    "### References:\n",
    "- Kaggle.com\n",
    "- stats.stackexchange.com\n",
    "- fivethirtyeight.com"
   ]
  },
  {
   "cell_type": "code",
   "execution_count": 47,
   "metadata": {
    "collapsed": false
   },
   "outputs": [
    {
     "name": "stdout",
     "output_type": "stream",
     "text": [
      "Overall execution took [ 0:33:16.225132 ] seconds.\n"
     ]
    }
   ],
   "source": [
    "print('Overall execution took [', datetime.now() - startTime, '] seconds.')"
   ]
  }
 ],
 "metadata": {
  "anaconda-cloud": {},
  "kernelspec": {
   "display_name": "Python [default]",
   "language": "python",
   "name": "python3"
  },
  "language_info": {
   "codemirror_mode": {
    "name": "ipython",
    "version": 3
   },
   "file_extension": ".py",
   "mimetype": "text/x-python",
   "name": "python",
   "nbconvert_exporter": "python",
   "pygments_lexer": "ipython3",
   "version": "3.5.2"
  }
 },
 "nbformat": 4,
 "nbformat_minor": 1
}
